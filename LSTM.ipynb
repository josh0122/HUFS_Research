{
  "nbformat": 4,
  "nbformat_minor": 0,
  "metadata": {
    "colab": {
      "name": "LSTM.ipynb",
      "provenance": [],
      "collapsed_sections": [
        "6pOMIaCSfTvr"
      ]
    },
    "kernelspec": {
      "name": "python3",
      "display_name": "Python 3"
    },
    "language_info": {
      "name": "python"
    },
    "accelerator": "GPU"
  },
  "cells": [
    {
      "cell_type": "markdown",
      "metadata": {
        "id": "TDy83eTwoOb_"
      },
      "source": [
        "참고 : https://machinelearningmastery.com/how-to-develop-rnn-models-for-human-activity-recognition-time-series-classification/"
      ]
    },
    {
      "cell_type": "code",
      "metadata": {
        "id": "ub7wNJsaTBAZ"
      },
      "source": [
        "import pandas as pd\n",
        "import numpy as np\n",
        "\n",
        "# Import Keras\n",
        "from keras import backend as K\n",
        "from keras.models import Sequential\n",
        "from keras.layers import LSTM\n",
        "from keras.layers.core import Dense, Dropout\n",
        "from keras.layers import BatchNormalization\n",
        "from keras.regularizers import L1L2"
      ],
      "execution_count": null,
      "outputs": []
    },
    {
      "cell_type": "code",
      "metadata": {
        "colab": {
          "base_uri": "https://localhost:8080/"
        },
        "id": "60B5vJmOqZ2P",
        "outputId": "69142549-abfa-4b7c-f4d7-078e5fc2cee1"
      },
      "source": [
        "from google.colab import drive\n",
        "drive.mount('/content/drive')"
      ],
      "execution_count": null,
      "outputs": [
        {
          "output_type": "stream",
          "name": "stdout",
          "text": [
            "Mounted at /content/drive\n"
          ]
        }
      ]
    },
    {
      "cell_type": "markdown",
      "metadata": {
        "id": "s-mUEj7giWOJ"
      },
      "source": [
        "### Sequence Model\n",
        "- 연속적인 입력(Sequential Input)으로부터 출력을 생성하는 모델\n",
        "-  입력과 출력이 모두 Sequence Data일수도,하나만 Sequence Data 일 수도 있다.\n",
        "\n",
        "연속적인 입력으로 부터 6개의 활동 중 하나의 출력값을 생성\n",
        "\n",
        "=> 시계열 데이터는 순차열 데이터라고 볼 수 있기 때문에 cnn계열의 모델보다 rnn계열 모델에서 더욱 높은 정확성과 효율성을 기대할 수 있음\n",
        "\n",
        "출처 : https://aidalab.tistory.com/41\n",
        "\n",
        "### 시계열 분석 - RNN 계열 모델\n",
        "- RNN : 시간적으로 연속성이 있는 데이터를 처리하려고 고안된 인공 신경망, 이전 은닉층이 현재 은닉층의 입력이 되면서 반복되는 순환 구조를 갖음, 기존 네트워크와 다른 점은 '기억을 갖는다'는 것, RNN의 경우 짧은 시퀀스를 처리할 경우 유리하며, 관련 정보와 그 정보를 사용하는 지점 사이 거리가 멀어지는 경우 학습 능력이 현저하게 저하\n",
        "\n",
        "- LSTM : 불필요한 연산, 오차 등을 줄여 장기 의존성 문제를 일정 부분 해결\n",
        "\n",
        "\n",
        "- GRU : RNN의 장기 의존성 문제를 해결하기 위한 알고리즘으로 LSTM의 변형 모델로 구조가 크게 다르지 않지만 매개변수가 적고 소규모 데이터 세트에서는 더 나은 성능을 보여준다.\n",
        "\n",
        "GRU가 LSTM을 변형한 최신 알고리즘이지만 둘 간의 성능 차이가 명확히 나타나고 있지 않기에 연구 및 프로젝트에 맞게 성능을 직접 테스트 해보고 해당 사이트에 맞는 모델을 사용\n",
        "\n",
        "출처: https://needjarvis.tistory.com/684 "
      ]
    },
    {
      "cell_type": "code",
      "metadata": {
        "id": "V0zU10IeTJ3n"
      },
      "source": [
        "ACTIVITIES = {\n",
        "    0: 'WALKING',\n",
        "    1: 'WALKING_UPSTAIRS',\n",
        "    2: 'WALKING_DOWNSTAIRS',\n",
        "    3: 'SITTING',\n",
        "    4: 'STANDING',\n",
        "    5: 'LAYING',\n",
        "}"
      ],
      "execution_count": null,
      "outputs": []
    },
    {
      "cell_type": "markdown",
      "metadata": {
        "id": "VVfl71-PwSLP"
      },
      "source": [
        "### 혼동행렬"
      ]
    },
    {
      "cell_type": "code",
      "metadata": {
        "id": "gFm-ToKUTcB_"
      },
      "source": [
        "import matplotlib.pyplot as plt\n",
        "import seaborn as sns\n",
        "\n",
        "def confusion_matrix(Y_true, Y_pred):\n",
        "    \n",
        "    Y_true = pd.Series([ACTIVITIES[y] for y in np.argmax(Y_true, axis=1)])\n",
        "    Y_pred = pd.Series([ACTIVITIES[y] for y in np.argmax(Y_pred, axis=1)])\n",
        "\n",
        "    return pd.crosstab(Y_true, Y_pred, rownames=['True'], colnames=['Pred'])\n",
        "\n",
        "    plt.show()"
      ],
      "execution_count": null,
      "outputs": []
    },
    {
      "cell_type": "markdown",
      "metadata": {
        "id": "5KYToZPIC2nV"
      },
      "source": [
        "### 데이터 셋\n",
        "\n",
        "- The sensor signals (accelerometer and gyroscope) were pre-processed by applying noise filters and then sampled in fixed-width sliding windows of 2.56 sec and 50% overlap (128 readings/window)\n",
        "\n",
        "### Inertial signal\n",
        "- 'train/Inertial Signals/total_acc_x_train.txt': The acceleration signal from the smartphone accelerometer X axis in standard gravity units 'g'. Every row shows a 128 element vector. The same description applies for the 'total_acc_x_train.txt' and 'total_acc_z_train.txt' files for the Y and Z axis. \n",
        "\n",
        "- 'train/Inertial Signals/body_acc_x_train.txt': The body acceleration signal obtained by subtracting the gravity from the total acceleration. \n",
        "\n",
        "- 'train/Inertial Signals/body_gyro_x_train.txt': The angular velocity vector measured by the gyroscope for each window sample. The units are radians/second. \n",
        "\n"
      ]
    },
    {
      "cell_type": "code",
      "metadata": {
        "id": "A0L8nUInTk9x"
      },
      "source": [
        "# 데이터 셋 경로 \n",
        "DATADIR = '/content/drive/MyDrive/UCI HAR Dataset/'\n",
        "\n",
        "# 사용한 특징 \n",
        "SIGNALS = [\n",
        "    \"body_acc_x\",\n",
        "    \"body_acc_y\",\n",
        "    \"body_acc_z\",\n",
        "    \"body_gyro_x\",\n",
        "    \"body_gyro_y\",\n",
        "    \"body_gyro_z\",\n",
        "    \"total_acc_x\",\n",
        "    \"total_acc_y\",\n",
        "    \"total_acc_z\"\n",
        "    ]"
      ],
      "execution_count": null,
      "outputs": []
    },
    {
      "cell_type": "code",
      "metadata": {
        "id": "VnpCI3WZTlbA"
      },
      "source": [
        "# csv 파일 읽어오는 함수 \n",
        "def _read_csv(filename):\n",
        "\n",
        "    return pd.read_csv(filename, delim_whitespace=True, header=None)\n",
        "\n",
        "# function to load the load\n",
        "def load_signals(subset):\n",
        "    signals_data = []\n",
        "\n",
        "    for signal in SIGNALS:\n",
        "        filename = f'/content/drive/MyDrive/UCI HAR Dataset/{subset}/Inertial Signals/{signal}_{subset}.txt'\n",
        "        signals_data.append(\n",
        "            _read_csv(filename).to_numpy()\n",
        "        ) \n",
        "\n",
        "    # Transpose is used to change the dimensionality of the output,\n",
        "    # aggregating the signals by combination of sample/timestep.\n",
        "    # Resultant shape is (7352 train/2947 test samples, 128 timesteps, 9 signals)\n",
        "    return np.transpose(signals_data, (1, 2, 0))"
      ],
      "execution_count": null,
      "outputs": []
    },
    {
      "cell_type": "code",
      "metadata": {
        "id": "Y5O75sRkUZnZ"
      },
      "source": [
        "def load_y(subset):\n",
        "    \"\"\"\n",
        "    The objective that we are trying to predict is a integer, from 1 to 6,\n",
        "    that represents a human activity. We return a binary representation of \n",
        "    every sample objective as a 6 bits vector using One Hot Encoding\n",
        "    (https://pandas.pydata.org/pandas-docs/stable/generated/pandas.get_dummies.html)\n",
        "    \"\"\"\n",
        "    filename = f'/content/drive/MyDrive/UCI HAR Dataset/{subset}/y_{subset}.txt'\n",
        "    y = _read_csv(filename)[0]\n",
        "\n",
        "    return pd.get_dummies(y).to_numpy()"
      ],
      "execution_count": null,
      "outputs": []
    },
    {
      "cell_type": "code",
      "metadata": {
        "id": "yzNRy3cMUb73"
      },
      "source": [
        "def load_data():\n",
        "    \"\"\"\n",
        "    Obtain the dataset from multiple files.\n",
        "    Returns: X_train, X_test, y_train, y_test\n",
        "    \"\"\"\n",
        "    X_train, X_test = load_signals('train'), load_signals('test')\n",
        "    y_train, y_test = load_y('train'), load_y('test')\n",
        "\n",
        "    return X_train, X_test, y_train, y_test"
      ],
      "execution_count": null,
      "outputs": []
    },
    {
      "cell_type": "code",
      "metadata": {
        "id": "LvULd-46UebY"
      },
      "source": [
        "# Importing tensorflow\n",
        "np.random.seed(42)\n",
        "import tensorflow as tf\n",
        "tf.random.set_seed(42)"
      ],
      "execution_count": null,
      "outputs": []
    },
    {
      "cell_type": "markdown",
      "metadata": {
        "id": "0TX_0-Sf-0MK"
      },
      "source": [
        "### 하이퍼 파라미터 세팅\n",
        "\n",
        "1) epoch : 30, batch_size : 16, n_hidden : 32, 정확도 : 0.918\n",
        "\n",
        "2) epoch : 50, batch_size : 16, n_hidden : 32, 정확도 : 0.906\n",
        "\n",
        "3) epoch : 100, batch_size : 16, n_hidden : 32, 정확도 : 0.914\n",
        "\n",
        "4) epoch : 100, batch_size : 32, n_hidden : 32, 정확도 : 0.88\n",
        "\n",
        "5) epoch : 50, batch_size : 32, n_hidden : 32, 정확도 : 0.92\n",
        "\n",
        "6) epoch : 30, batch_size : 32, n_hidden : 32, 정확도 : 0.89\n",
        "\n",
        "7) epoch : 30, batch_size : 64, n_hidden : 32, 정확도 : 0.89\n",
        "\n",
        "8) epoch : 30, batch_size : 64, n_hidden : 32, 정확도 : 0.87"
      ]
    },
    {
      "cell_type": "code",
      "metadata": {
        "id": "0p7idaTYUgPL"
      },
      "source": [
        "epochs = 50\n",
        "batch_size = 64\n",
        "n_hidden = 32"
      ],
      "execution_count": null,
      "outputs": []
    },
    {
      "cell_type": "code",
      "metadata": {
        "id": "vF2xlng8UhxB"
      },
      "source": [
        "#function to count the number of classes\n",
        "def _count_classes(y):\n",
        "    return len(set([tuple(category) for category in y]))"
      ],
      "execution_count": null,
      "outputs": []
    },
    {
      "cell_type": "code",
      "metadata": {
        "id": "ZiqdRYvrUlPn"
      },
      "source": [
        "# Loading the train and test data\n",
        "X_train, X_test, Y_train, Y_test = load_data()"
      ],
      "execution_count": null,
      "outputs": []
    },
    {
      "cell_type": "markdown",
      "metadata": {
        "id": "Hr09CZ5--6xr"
      },
      "source": [
        "### 데이터 확인"
      ]
    },
    {
      "cell_type": "code",
      "metadata": {
        "colab": {
          "base_uri": "https://localhost:8080/"
        },
        "id": "-HpOc3BmUlnS",
        "outputId": "a7b924f3-a2a5-47bd-89de-367b3b71316d"
      },
      "source": [
        "timesteps = len(X_train[0])\n",
        "input_dim = len(X_train[0][0])\n",
        "n_classes = _count_classes(Y_train)\n",
        "\n",
        "print(timesteps)\n",
        "print(input_dim)\n",
        "print(len(X_train))"
      ],
      "execution_count": null,
      "outputs": [
        {
          "output_type": "stream",
          "name": "stdout",
          "text": [
            "128\n",
            "9\n",
            "7352\n"
          ]
        }
      ]
    },
    {
      "cell_type": "markdown",
      "metadata": {
        "id": "7rM_Wo4efHDx"
      },
      "source": [
        "### 1-Layer of LSTM\n",
        "\n",
        "- LSTM (Long Short Term Memory)는 기존의 RNN이 출력과 먼 위치에 있는 정보를 기억할 수 없다는 단점을 보완하여 장/단기 기억을 가능하게 설계한 신경망의 구조/ 주로 시계열 처리에 사용\n",
        "\n",
        "- input_shape=(timestep, feature) 형태\n",
        "- 예측하고자하는 target의 갯수가 6 이므로  마지막에 Dense(n_classes = 6 )을 하나 추가\n",
        "\n",
        "- 활성함수는 Sigmoid : 0.91856\n",
        "\n",
        "Sigmoid 함수는 모든 실수 입력 값을 0보다 크고 1보다 작은 미분 가능한 수로 변환 "
      ]
    },
    {
      "cell_type": "code",
      "metadata": {
        "colab": {
          "base_uri": "https://localhost:8080/"
        },
        "id": "PqJEDj9ifEim",
        "outputId": "8e66c764-17d5-4543-ef79-c78acdabc421"
      },
      "source": [
        "# Initiliazing the sequential model\n",
        "model = Sequential()\n",
        "# Configuring the parameters\n",
        "model.add(LSTM(n_hidden, input_shape=(timesteps, input_dim)))\n",
        "# Adding a dropout layer\n",
        "model.add(Dropout(0.5))\n",
        "# Adding a dense output layer with sigmoid activation\n",
        "model.add(Dense(n_classes, activation='sigmoid')) \n",
        "model.summary()"
      ],
      "execution_count": null,
      "outputs": [
        {
          "output_type": "stream",
          "name": "stdout",
          "text": [
            "Model: \"sequential\"\n",
            "_________________________________________________________________\n",
            " Layer (type)                Output Shape              Param #   \n",
            "=================================================================\n",
            " lstm (LSTM)                 (None, 32)                5376      \n",
            "                                                                 \n",
            " dropout (Dropout)           (None, 32)                0         \n",
            "                                                                 \n",
            " dense (Dense)               (None, 6)                 198       \n",
            "                                                                 \n",
            "=================================================================\n",
            "Total params: 5,574\n",
            "Trainable params: 5,574\n",
            "Non-trainable params: 0\n",
            "_________________________________________________________________\n"
          ]
        }
      ]
    },
    {
      "cell_type": "code",
      "metadata": {
        "id": "IgtT5GNzfIwP"
      },
      "source": [
        "# Compiling the model\n",
        "model.compile(loss='categorical_crossentropy', optimizer='rmsprop', metrics=['accuracy'])"
      ],
      "execution_count": null,
      "outputs": []
    },
    {
      "cell_type": "markdown",
      "metadata": {
        "id": "YyZeoGoM_CJt"
      },
      "source": [
        "### 트레이닝"
      ]
    },
    {
      "cell_type": "code",
      "metadata": {
        "id": "DKdhAzPXfLWf"
      },
      "source": [
        "# Training the model\n",
        "model.fit(X_train, Y_train, batch_size=batch_size, validation_data=(X_test, Y_test),epochs=epochs)"
      ],
      "execution_count": null,
      "outputs": []
    },
    {
      "cell_type": "markdown",
      "metadata": {
        "id": "qJBPYx2qcsZb"
      },
      "source": [
        "### 혼동행렬 확인"
      ]
    },
    {
      "cell_type": "code",
      "metadata": {
        "colab": {
          "base_uri": "https://localhost:8080/",
          "height": 265
        },
        "id": "srVUzcX3fMWu",
        "outputId": "84c7f909-394e-47bb-90a0-cae1bae23013"
      },
      "source": [
        "# Confusion Matrix\n",
        "confusion_matrix(Y_test, model.predict(X_test))"
      ],
      "execution_count": null,
      "outputs": [
        {
          "output_type": "execute_result",
          "data": {
            "text/html": [
              "<div>\n",
              "<style scoped>\n",
              "    .dataframe tbody tr th:only-of-type {\n",
              "        vertical-align: middle;\n",
              "    }\n",
              "\n",
              "    .dataframe tbody tr th {\n",
              "        vertical-align: top;\n",
              "    }\n",
              "\n",
              "    .dataframe thead th {\n",
              "        text-align: right;\n",
              "    }\n",
              "</style>\n",
              "<table border=\"1\" class=\"dataframe\">\n",
              "  <thead>\n",
              "    <tr style=\"text-align: right;\">\n",
              "      <th>Pred</th>\n",
              "      <th>LAYING</th>\n",
              "      <th>SITTING</th>\n",
              "      <th>STANDING</th>\n",
              "      <th>WALKING</th>\n",
              "      <th>WALKING_DOWNSTAIRS</th>\n",
              "      <th>WALKING_UPSTAIRS</th>\n",
              "    </tr>\n",
              "    <tr>\n",
              "      <th>True</th>\n",
              "      <th></th>\n",
              "      <th></th>\n",
              "      <th></th>\n",
              "      <th></th>\n",
              "      <th></th>\n",
              "      <th></th>\n",
              "    </tr>\n",
              "  </thead>\n",
              "  <tbody>\n",
              "    <tr>\n",
              "      <th>LAYING</th>\n",
              "      <td>510</td>\n",
              "      <td>0</td>\n",
              "      <td>0</td>\n",
              "      <td>0</td>\n",
              "      <td>0</td>\n",
              "      <td>27</td>\n",
              "    </tr>\n",
              "    <tr>\n",
              "      <th>SITTING</th>\n",
              "      <td>0</td>\n",
              "      <td>417</td>\n",
              "      <td>72</td>\n",
              "      <td>2</td>\n",
              "      <td>0</td>\n",
              "      <td>0</td>\n",
              "    </tr>\n",
              "    <tr>\n",
              "      <th>STANDING</th>\n",
              "      <td>0</td>\n",
              "      <td>131</td>\n",
              "      <td>392</td>\n",
              "      <td>7</td>\n",
              "      <td>0</td>\n",
              "      <td>2</td>\n",
              "    </tr>\n",
              "    <tr>\n",
              "      <th>WALKING</th>\n",
              "      <td>0</td>\n",
              "      <td>0</td>\n",
              "      <td>0</td>\n",
              "      <td>492</td>\n",
              "      <td>3</td>\n",
              "      <td>1</td>\n",
              "    </tr>\n",
              "    <tr>\n",
              "      <th>WALKING_DOWNSTAIRS</th>\n",
              "      <td>0</td>\n",
              "      <td>0</td>\n",
              "      <td>0</td>\n",
              "      <td>12</td>\n",
              "      <td>404</td>\n",
              "      <td>4</td>\n",
              "    </tr>\n",
              "    <tr>\n",
              "      <th>WALKING_UPSTAIRS</th>\n",
              "      <td>0</td>\n",
              "      <td>0</td>\n",
              "      <td>0</td>\n",
              "      <td>87</td>\n",
              "      <td>4</td>\n",
              "      <td>380</td>\n",
              "    </tr>\n",
              "  </tbody>\n",
              "</table>\n",
              "</div>"
            ],
            "text/plain": [
              "Pred                LAYING  SITTING  ...  WALKING_DOWNSTAIRS  WALKING_UPSTAIRS\n",
              "True                                 ...                                      \n",
              "LAYING                 510        0  ...                   0                27\n",
              "SITTING                  0      417  ...                   0                 0\n",
              "STANDING                 0      131  ...                   0                 2\n",
              "WALKING                  0        0  ...                   3                 1\n",
              "WALKING_DOWNSTAIRS       0        0  ...                 404                 4\n",
              "WALKING_UPSTAIRS         0        0  ...                   4               380\n",
              "\n",
              "[6 rows x 6 columns]"
            ]
          },
          "metadata": {},
          "execution_count": 46
        }
      ]
    },
    {
      "cell_type": "markdown",
      "metadata": {
        "id": "RMz0-tRmcv9X"
      },
      "source": [
        "### 정확도 확인"
      ]
    },
    {
      "cell_type": "code",
      "metadata": {
        "colab": {
          "base_uri": "https://localhost:8080/"
        },
        "id": "FvQ8yEbGfQPz",
        "outputId": "e1d7876e-e830-4e6f-e1df-c803ad02e9b6"
      },
      "source": [
        "score = model.evaluate(X_test, Y_test)\n",
        "\n",
        "print(\"\\n   cat_crossentropy  ||   accuracy \")\n",
        "print(\"  ____________________________________\")\n",
        "print(score)"
      ],
      "execution_count": null,
      "outputs": [
        {
          "output_type": "stream",
          "name": "stdout",
          "text": [
            "93/93 [==============================] - 1s 10ms/step - loss: 0.5622 - accuracy: 0.8806\n",
            "\n",
            "   cat_crossentropy  ||   accuracy \n",
            "  ____________________________________\n",
            "[0.5621749758720398, 0.8805565237998962]\n"
          ]
        }
      ]
    },
    {
      "cell_type": "markdown",
      "metadata": {
        "id": "6pOMIaCSfTvr"
      },
      "source": [
        "### 2-Layer of LSTM\n"
      ]
    },
    {
      "cell_type": "markdown",
      "metadata": {
        "id": "q38zUlwZOq6Z"
      },
      "source": [
        "### 하이퍼 파라미터 세팅\n",
        "\n",
        "1) epoch : 30, batch_size : 16, n_hidden : 32, 정확도 : 0.915\n",
        "\n",
        "2) epoch : 50, batch_size : 16, n_hidden : 32, 정확도 : 0.9203"
      ]
    },
    {
      "cell_type": "code",
      "metadata": {
        "id": "6yUV9WDJfSuh"
      },
      "source": [
        "n_epochs = 100\n",
        "n_batch = 16\n",
        "n_classes = _count_classes(Y_train)\n",
        "\n",
        "# Bias regularizer value\n",
        "reg = L1L2(0.01, 0.01)"
      ],
      "execution_count": null,
      "outputs": []
    },
    {
      "cell_type": "code",
      "metadata": {
        "colab": {
          "base_uri": "https://localhost:8080/"
        },
        "id": "SuluKM0DfXJa",
        "outputId": "c93120d4-bec1-4bf3-92fd-4fc3804626a3"
      },
      "source": [
        "# Model execution\n",
        "model = Sequential()\n",
        "model.add(LSTM(48, input_shape=(timesteps, input_dim), return_sequences=True,bias_regularizer=reg ))\n",
        "model.add(BatchNormalization())\n",
        "model.add(Dropout(0.50))\n",
        "model.add(LSTM(32))\n",
        "model.add(Dropout(0.50))\n",
        "model.add(Dense(n_classes, activation='sigmoid'))\n",
        "print(\"Model Summary: \")\n",
        "model.summary()"
      ],
      "execution_count": null,
      "outputs": [
        {
          "output_type": "stream",
          "name": "stdout",
          "text": [
            "Model Summary: \n",
            "Model: \"sequential_1\"\n",
            "_________________________________________________________________\n",
            " Layer (type)                Output Shape              Param #   \n",
            "=================================================================\n",
            " lstm_1 (LSTM)               (None, 128, 48)           11136     \n",
            "                                                                 \n",
            " batch_normalization (BatchN  (None, 128, 48)          192       \n",
            " ormalization)                                                   \n",
            "                                                                 \n",
            " dropout_1 (Dropout)         (None, 128, 48)           0         \n",
            "                                                                 \n",
            " lstm_2 (LSTM)               (None, 32)                10368     \n",
            "                                                                 \n",
            " dropout_2 (Dropout)         (None, 32)                0         \n",
            "                                                                 \n",
            " dense_1 (Dense)             (None, 6)                 198       \n",
            "                                                                 \n",
            "=================================================================\n",
            "Total params: 21,894\n",
            "Trainable params: 21,798\n",
            "Non-trainable params: 96\n",
            "_________________________________________________________________\n"
          ]
        }
      ]
    },
    {
      "cell_type": "code",
      "metadata": {
        "id": "i_bTVgOAfZGW"
      },
      "source": [
        "model.compile(loss='categorical_crossentropy', optimizer='adam', metrics=['accuracy'])"
      ],
      "execution_count": null,
      "outputs": []
    },
    {
      "cell_type": "code",
      "metadata": {
        "colab": {
          "base_uri": "https://localhost:8080/",
          "height": 1000
        },
        "id": "w5jeye-AfagA",
        "outputId": "9be4c4c6-4f7e-4193-b6f1-fa1cd94a79f6"
      },
      "source": [
        "\n",
        "# Training the model\n",
        "model.fit(X_train, Y_train, batch_size=n_batch, validation_data=(X_test, Y_test), epochs=n_epochs)"
      ],
      "execution_count": null,
      "outputs": [
        {
          "output_type": "stream",
          "name": "stdout",
          "text": [
            "Epoch 1/100\n",
            "460/460 [==============================] - 31s 60ms/step - loss: 1.5704 - accuracy: 0.6688 - val_loss: 1.0497 - val_accuracy: 0.8263\n",
            "Epoch 2/100\n",
            "460/460 [==============================] - 26s 57ms/step - loss: 0.7391 - accuracy: 0.8689 - val_loss: 0.6469 - val_accuracy: 0.8480\n",
            "Epoch 3/100\n",
            "460/460 [==============================] - 26s 57ms/step - loss: 0.4327 - accuracy: 0.9052 - val_loss: 0.4133 - val_accuracy: 0.8778\n",
            "Epoch 4/100\n",
            "460/460 [==============================] - 26s 57ms/step - loss: 0.2587 - accuracy: 0.9272 - val_loss: 0.3001 - val_accuracy: 0.9074\n",
            "Epoch 5/100\n",
            "460/460 [==============================] - 26s 57ms/step - loss: 0.2201 - accuracy: 0.9267 - val_loss: 0.4324 - val_accuracy: 0.8504\n",
            "Epoch 6/100\n",
            "460/460 [==============================] - 26s 58ms/step - loss: 0.2003 - accuracy: 0.9301 - val_loss: 0.2346 - val_accuracy: 0.9165\n",
            "Epoch 7/100\n",
            "460/460 [==============================] - 26s 57ms/step - loss: 0.1898 - accuracy: 0.9353 - val_loss: 0.4208 - val_accuracy: 0.8812\n",
            "Epoch 8/100\n",
            "460/460 [==============================] - 26s 57ms/step - loss: 0.1876 - accuracy: 0.9336 - val_loss: 0.2526 - val_accuracy: 0.9199\n",
            "Epoch 9/100\n",
            "460/460 [==============================] - 26s 57ms/step - loss: 0.1652 - accuracy: 0.9384 - val_loss: 0.2368 - val_accuracy: 0.9230\n",
            "Epoch 10/100\n",
            "460/460 [==============================] - 26s 57ms/step - loss: 0.1774 - accuracy: 0.9377 - val_loss: 0.1973 - val_accuracy: 0.9281\n",
            "Epoch 11/100\n",
            "460/460 [==============================] - 26s 57ms/step - loss: 0.1678 - accuracy: 0.9372 - val_loss: 0.2699 - val_accuracy: 0.9094\n",
            "Epoch 12/100\n",
            "460/460 [==============================] - 26s 57ms/step - loss: 0.1474 - accuracy: 0.9453 - val_loss: 0.2292 - val_accuracy: 0.9226\n",
            "Epoch 13/100\n",
            "460/460 [==============================] - 26s 57ms/step - loss: 0.1670 - accuracy: 0.9374 - val_loss: 0.3217 - val_accuracy: 0.8962\n",
            "Epoch 14/100\n",
            "460/460 [==============================] - 27s 58ms/step - loss: 0.1520 - accuracy: 0.9400 - val_loss: 0.2714 - val_accuracy: 0.9125\n",
            "Epoch 15/100\n",
            "460/460 [==============================] - 27s 58ms/step - loss: 0.1665 - accuracy: 0.9368 - val_loss: 0.3002 - val_accuracy: 0.8907\n",
            "Epoch 16/100\n",
            "460/460 [==============================] - 27s 58ms/step - loss: 0.1795 - accuracy: 0.9342 - val_loss: 0.2984 - val_accuracy: 0.9067\n",
            "Epoch 17/100\n",
            "460/460 [==============================] - 26s 57ms/step - loss: 0.1419 - accuracy: 0.9437 - val_loss: 0.2768 - val_accuracy: 0.9169\n",
            "Epoch 18/100\n",
            "460/460 [==============================] - 26s 58ms/step - loss: 0.2024 - accuracy: 0.9351 - val_loss: 0.3300 - val_accuracy: 0.8989\n",
            "Epoch 19/100\n",
            "460/460 [==============================] - 26s 58ms/step - loss: 0.1599 - accuracy: 0.9423 - val_loss: 0.2431 - val_accuracy: 0.9155\n",
            "Epoch 20/100\n",
            "460/460 [==============================] - 27s 58ms/step - loss: 0.1408 - accuracy: 0.9440 - val_loss: 0.2260 - val_accuracy: 0.9260\n",
            "Epoch 21/100\n",
            "460/460 [==============================] - 27s 58ms/step - loss: 0.1361 - accuracy: 0.9455 - val_loss: 0.2225 - val_accuracy: 0.9209\n",
            "Epoch 22/100\n",
            "460/460 [==============================] - 26s 58ms/step - loss: 0.1365 - accuracy: 0.9463 - val_loss: 0.2320 - val_accuracy: 0.9206\n",
            "Epoch 23/100\n",
            "460/460 [==============================] - 26s 57ms/step - loss: 0.1376 - accuracy: 0.9472 - val_loss: 0.2385 - val_accuracy: 0.9203\n",
            "Epoch 24/100\n",
            "460/460 [==============================] - 26s 58ms/step - loss: 0.1589 - accuracy: 0.9406 - val_loss: 0.2382 - val_accuracy: 0.9186\n",
            "Epoch 25/100\n",
            "460/460 [==============================] - 27s 58ms/step - loss: 0.1385 - accuracy: 0.9459 - val_loss: 0.2179 - val_accuracy: 0.9277\n",
            "Epoch 26/100\n",
            "460/460 [==============================] - 27s 58ms/step - loss: 0.1377 - accuracy: 0.9472 - val_loss: 0.3045 - val_accuracy: 0.9077\n",
            "Epoch 27/100\n",
            "460/460 [==============================] - 27s 58ms/step - loss: 0.1422 - accuracy: 0.9455 - val_loss: 0.2503 - val_accuracy: 0.9240\n",
            "Epoch 28/100\n",
            "460/460 [==============================] - 26s 57ms/step - loss: 0.1378 - accuracy: 0.9482 - val_loss: 0.2164 - val_accuracy: 0.9220\n",
            "Epoch 29/100\n",
            "460/460 [==============================] - 26s 57ms/step - loss: 0.1358 - accuracy: 0.9487 - val_loss: 0.2339 - val_accuracy: 0.9206\n",
            "Epoch 30/100\n",
            "460/460 [==============================] - 26s 57ms/step - loss: 0.1393 - accuracy: 0.9487 - val_loss: 0.2277 - val_accuracy: 0.9186\n",
            "Epoch 31/100\n",
            "460/460 [==============================] - 26s 58ms/step - loss: 0.1273 - accuracy: 0.9506 - val_loss: 0.2471 - val_accuracy: 0.9148\n",
            "Epoch 32/100\n",
            "460/460 [==============================] - 26s 57ms/step - loss: 0.1190 - accuracy: 0.9502 - val_loss: 0.2288 - val_accuracy: 0.9243\n",
            "Epoch 33/100\n",
            "460/460 [==============================] - 26s 57ms/step - loss: 0.1477 - accuracy: 0.9471 - val_loss: 0.2018 - val_accuracy: 0.9325\n",
            "Epoch 34/100\n",
            "460/460 [==============================] - 27s 58ms/step - loss: 0.1263 - accuracy: 0.9514 - val_loss: 0.2283 - val_accuracy: 0.9192\n",
            "Epoch 35/100\n",
            "460/460 [==============================] - 26s 58ms/step - loss: 0.1279 - accuracy: 0.9510 - val_loss: 0.2667 - val_accuracy: 0.9230\n",
            "Epoch 36/100\n",
            "460/460 [==============================] - 26s 57ms/step - loss: 0.1491 - accuracy: 0.9433 - val_loss: 0.2986 - val_accuracy: 0.9186\n",
            "Epoch 37/100\n",
            "460/460 [==============================] - 26s 58ms/step - loss: 0.1487 - accuracy: 0.9450 - val_loss: 0.2252 - val_accuracy: 0.9270\n",
            "Epoch 38/100\n",
            "460/460 [==============================] - 26s 58ms/step - loss: 0.1237 - accuracy: 0.9497 - val_loss: 0.1951 - val_accuracy: 0.9318\n",
            "Epoch 39/100\n",
            "460/460 [==============================] - 27s 58ms/step - loss: 0.1214 - accuracy: 0.9539 - val_loss: 0.2467 - val_accuracy: 0.9250\n",
            "Epoch 40/100\n",
            "460/460 [==============================] - 26s 57ms/step - loss: 0.1230 - accuracy: 0.9493 - val_loss: 0.2428 - val_accuracy: 0.9284\n",
            "Epoch 41/100\n",
            "460/460 [==============================] - 27s 58ms/step - loss: 0.1161 - accuracy: 0.9490 - val_loss: 0.2853 - val_accuracy: 0.9257\n",
            "Epoch 42/100\n",
            "460/460 [==============================] - 26s 57ms/step - loss: 0.1370 - accuracy: 0.9484 - val_loss: 0.2415 - val_accuracy: 0.9165\n",
            "Epoch 43/100\n",
            "460/460 [==============================] - 27s 58ms/step - loss: 0.1217 - accuracy: 0.9505 - val_loss: 0.1949 - val_accuracy: 0.9416\n",
            "Epoch 44/100\n",
            "460/460 [==============================] - 26s 58ms/step - loss: 0.1297 - accuracy: 0.9502 - val_loss: 0.1892 - val_accuracy: 0.9284\n",
            "Epoch 45/100\n",
            "460/460 [==============================] - 27s 58ms/step - loss: 0.1207 - accuracy: 0.9517 - val_loss: 0.2218 - val_accuracy: 0.9230\n",
            "Epoch 46/100\n",
            "460/460 [==============================] - 26s 57ms/step - loss: 0.1140 - accuracy: 0.9520 - val_loss: 0.2080 - val_accuracy: 0.9209\n",
            "Epoch 47/100\n",
            "460/460 [==============================] - 26s 57ms/step - loss: 0.1163 - accuracy: 0.9548 - val_loss: 0.2054 - val_accuracy: 0.9284\n",
            "Epoch 48/100\n",
            "460/460 [==============================] - 26s 57ms/step - loss: 0.1463 - accuracy: 0.9438 - val_loss: 0.6399 - val_accuracy: 0.8738\n",
            "Epoch 49/100\n",
            "460/460 [==============================] - 27s 58ms/step - loss: 0.1276 - accuracy: 0.9508 - val_loss: 0.2221 - val_accuracy: 0.9345\n",
            "Epoch 50/100\n",
            "460/460 [==============================] - 27s 58ms/step - loss: 0.1222 - accuracy: 0.9506 - val_loss: 0.2005 - val_accuracy: 0.9308\n",
            "Epoch 51/100\n",
            "460/460 [==============================] - 27s 58ms/step - loss: 0.1309 - accuracy: 0.9527 - val_loss: 0.2273 - val_accuracy: 0.9206\n",
            "Epoch 52/100\n",
            "460/460 [==============================] - 28s 62ms/step - loss: 0.1208 - accuracy: 0.9509 - val_loss: 0.1963 - val_accuracy: 0.9355\n",
            "Epoch 53/100\n",
            "460/460 [==============================] - 27s 58ms/step - loss: 0.1229 - accuracy: 0.9498 - val_loss: 0.2442 - val_accuracy: 0.9359\n",
            "Epoch 54/100\n",
            "460/460 [==============================] - 27s 58ms/step - loss: 0.1171 - accuracy: 0.9536 - val_loss: 0.2348 - val_accuracy: 0.9308\n",
            "Epoch 55/100\n",
            "460/460 [==============================] - 27s 58ms/step - loss: 0.1143 - accuracy: 0.9517 - val_loss: 0.3087 - val_accuracy: 0.9121\n",
            "Epoch 56/100\n",
            "460/460 [==============================] - 26s 58ms/step - loss: 0.1142 - accuracy: 0.9525 - val_loss: 0.2695 - val_accuracy: 0.9192\n",
            "Epoch 57/100\n",
            "460/460 [==============================] - 27s 58ms/step - loss: 0.1098 - accuracy: 0.9554 - val_loss: 0.2212 - val_accuracy: 0.9291\n",
            "Epoch 58/100\n",
            "460/460 [==============================] - 27s 58ms/step - loss: 0.1179 - accuracy: 0.9547 - val_loss: 0.2728 - val_accuracy: 0.9186\n",
            "Epoch 59/100\n",
            "460/460 [==============================] - 26s 58ms/step - loss: 0.1316 - accuracy: 0.9491 - val_loss: 0.3071 - val_accuracy: 0.9233\n",
            "Epoch 60/100\n",
            "460/460 [==============================] - 27s 58ms/step - loss: 0.1354 - accuracy: 0.9504 - val_loss: 0.2074 - val_accuracy: 0.9247\n",
            "Epoch 61/100\n",
            "460/460 [==============================] - 27s 58ms/step - loss: 0.1136 - accuracy: 0.9543 - val_loss: 0.3184 - val_accuracy: 0.9240\n",
            "Epoch 62/100\n",
            "460/460 [==============================] - 27s 58ms/step - loss: 0.1129 - accuracy: 0.9520 - val_loss: 0.2857 - val_accuracy: 0.9247\n",
            "Epoch 63/100\n",
            "460/460 [==============================] - 26s 58ms/step - loss: 0.1098 - accuracy: 0.9535 - val_loss: 0.2525 - val_accuracy: 0.9250\n",
            "Epoch 64/100\n",
            "460/460 [==============================] - 26s 58ms/step - loss: 0.1129 - accuracy: 0.9550 - val_loss: 0.3250 - val_accuracy: 0.9108\n",
            "Epoch 65/100\n",
            "460/460 [==============================] - 27s 58ms/step - loss: 0.1090 - accuracy: 0.9539 - val_loss: 0.3196 - val_accuracy: 0.9199\n",
            "Epoch 66/100\n",
            "460/460 [==============================] - 27s 58ms/step - loss: 0.1155 - accuracy: 0.9527 - val_loss: 0.2225 - val_accuracy: 0.9372\n",
            "Epoch 67/100\n",
            "460/460 [==============================] - 27s 58ms/step - loss: 0.1172 - accuracy: 0.9533 - val_loss: 0.2466 - val_accuracy: 0.9182\n",
            "Epoch 68/100\n",
            "460/460 [==============================] - 27s 58ms/step - loss: 0.1163 - accuracy: 0.9548 - val_loss: 0.2203 - val_accuracy: 0.9237\n",
            "Epoch 69/100\n",
            "460/460 [==============================] - 27s 58ms/step - loss: 0.1064 - accuracy: 0.9547 - val_loss: 0.2514 - val_accuracy: 0.9230\n",
            "Epoch 70/100\n",
            "460/460 [==============================] - 27s 58ms/step - loss: 0.1114 - accuracy: 0.9529 - val_loss: 0.3235 - val_accuracy: 0.9213\n",
            "Epoch 71/100\n",
            "460/460 [==============================] - 27s 58ms/step - loss: 0.1072 - accuracy: 0.9555 - val_loss: 0.2723 - val_accuracy: 0.9281\n",
            "Epoch 72/100\n",
            "460/460 [==============================] - 27s 58ms/step - loss: 0.1092 - accuracy: 0.9558 - val_loss: 0.2979 - val_accuracy: 0.9189\n",
            "Epoch 73/100\n",
            "460/460 [==============================] - 27s 58ms/step - loss: 0.1098 - accuracy: 0.9542 - val_loss: 0.2858 - val_accuracy: 0.9175\n",
            "Epoch 74/100\n",
            "460/460 [==============================] - 27s 58ms/step - loss: 0.1078 - accuracy: 0.9558 - val_loss: 0.2668 - val_accuracy: 0.9250\n",
            "Epoch 75/100\n",
            "460/460 [==============================] - 27s 58ms/step - loss: 0.1204 - accuracy: 0.9533 - val_loss: 0.3607 - val_accuracy: 0.9104\n",
            "Epoch 76/100\n",
            "460/460 [==============================] - 27s 58ms/step - loss: 0.1213 - accuracy: 0.9524 - val_loss: 0.3919 - val_accuracy: 0.9111\n",
            "Epoch 77/100\n",
            "460/460 [==============================] - 27s 58ms/step - loss: 0.1084 - accuracy: 0.9538 - val_loss: 0.3787 - val_accuracy: 0.9128\n",
            "Epoch 78/100\n",
            "280/460 [=================>............] - ETA: 9s - loss: 0.1169 - accuracy: 0.9558"
          ]
        },
        {
          "output_type": "error",
          "ename": "KeyboardInterrupt",
          "evalue": "ignored",
          "traceback": [
            "\u001b[0;31m---------------------------------------------------------------------------\u001b[0m",
            "\u001b[0;31mKeyboardInterrupt\u001b[0m                         Traceback (most recent call last)",
            "\u001b[0;32m<ipython-input-51-88573098199e>\u001b[0m in \u001b[0;36m<module>\u001b[0;34m()\u001b[0m\n\u001b[1;32m      1\u001b[0m \u001b[0;34m\u001b[0m\u001b[0m\n\u001b[1;32m      2\u001b[0m \u001b[0;31m# Training the model\u001b[0m\u001b[0;34m\u001b[0m\u001b[0;34m\u001b[0m\u001b[0;34m\u001b[0m\u001b[0m\n\u001b[0;32m----> 3\u001b[0;31m \u001b[0mmodel\u001b[0m\u001b[0;34m.\u001b[0m\u001b[0mfit\u001b[0m\u001b[0;34m(\u001b[0m\u001b[0mX_train\u001b[0m\u001b[0;34m,\u001b[0m \u001b[0mY_train\u001b[0m\u001b[0;34m,\u001b[0m \u001b[0mbatch_size\u001b[0m\u001b[0;34m=\u001b[0m\u001b[0mn_batch\u001b[0m\u001b[0;34m,\u001b[0m \u001b[0mvalidation_data\u001b[0m\u001b[0;34m=\u001b[0m\u001b[0;34m(\u001b[0m\u001b[0mX_test\u001b[0m\u001b[0;34m,\u001b[0m \u001b[0mY_test\u001b[0m\u001b[0;34m)\u001b[0m\u001b[0;34m,\u001b[0m \u001b[0mepochs\u001b[0m\u001b[0;34m=\u001b[0m\u001b[0mn_epochs\u001b[0m\u001b[0;34m)\u001b[0m\u001b[0;34m\u001b[0m\u001b[0;34m\u001b[0m\u001b[0m\n\u001b[0m",
            "\u001b[0;32m/usr/local/lib/python3.7/dist-packages/keras/utils/traceback_utils.py\u001b[0m in \u001b[0;36merror_handler\u001b[0;34m(*args, **kwargs)\u001b[0m\n\u001b[1;32m     62\u001b[0m     \u001b[0mfiltered_tb\u001b[0m \u001b[0;34m=\u001b[0m \u001b[0;32mNone\u001b[0m\u001b[0;34m\u001b[0m\u001b[0;34m\u001b[0m\u001b[0m\n\u001b[1;32m     63\u001b[0m     \u001b[0;32mtry\u001b[0m\u001b[0;34m:\u001b[0m\u001b[0;34m\u001b[0m\u001b[0;34m\u001b[0m\u001b[0m\n\u001b[0;32m---> 64\u001b[0;31m       \u001b[0;32mreturn\u001b[0m \u001b[0mfn\u001b[0m\u001b[0;34m(\u001b[0m\u001b[0;34m*\u001b[0m\u001b[0margs\u001b[0m\u001b[0;34m,\u001b[0m \u001b[0;34m**\u001b[0m\u001b[0mkwargs\u001b[0m\u001b[0;34m)\u001b[0m\u001b[0;34m\u001b[0m\u001b[0;34m\u001b[0m\u001b[0m\n\u001b[0m\u001b[1;32m     65\u001b[0m     \u001b[0;32mexcept\u001b[0m \u001b[0mException\u001b[0m \u001b[0;32mas\u001b[0m \u001b[0me\u001b[0m\u001b[0;34m:\u001b[0m  \u001b[0;31m# pylint: disable=broad-except\u001b[0m\u001b[0;34m\u001b[0m\u001b[0;34m\u001b[0m\u001b[0m\n\u001b[1;32m     66\u001b[0m       \u001b[0mfiltered_tb\u001b[0m \u001b[0;34m=\u001b[0m \u001b[0m_process_traceback_frames\u001b[0m\u001b[0;34m(\u001b[0m\u001b[0me\u001b[0m\u001b[0;34m.\u001b[0m\u001b[0m__traceback__\u001b[0m\u001b[0;34m)\u001b[0m\u001b[0;34m\u001b[0m\u001b[0;34m\u001b[0m\u001b[0m\n",
            "\u001b[0;32m/usr/local/lib/python3.7/dist-packages/keras/engine/training.py\u001b[0m in \u001b[0;36mfit\u001b[0;34m(self, x, y, batch_size, epochs, verbose, callbacks, validation_split, validation_data, shuffle, class_weight, sample_weight, initial_epoch, steps_per_epoch, validation_steps, validation_batch_size, validation_freq, max_queue_size, workers, use_multiprocessing)\u001b[0m\n\u001b[1;32m   1214\u001b[0m                 _r=1):\n\u001b[1;32m   1215\u001b[0m               \u001b[0mcallbacks\u001b[0m\u001b[0;34m.\u001b[0m\u001b[0mon_train_batch_begin\u001b[0m\u001b[0;34m(\u001b[0m\u001b[0mstep\u001b[0m\u001b[0;34m)\u001b[0m\u001b[0;34m\u001b[0m\u001b[0;34m\u001b[0m\u001b[0m\n\u001b[0;32m-> 1216\u001b[0;31m               \u001b[0mtmp_logs\u001b[0m \u001b[0;34m=\u001b[0m \u001b[0mself\u001b[0m\u001b[0;34m.\u001b[0m\u001b[0mtrain_function\u001b[0m\u001b[0;34m(\u001b[0m\u001b[0miterator\u001b[0m\u001b[0;34m)\u001b[0m\u001b[0;34m\u001b[0m\u001b[0;34m\u001b[0m\u001b[0m\n\u001b[0m\u001b[1;32m   1217\u001b[0m               \u001b[0;32mif\u001b[0m \u001b[0mdata_handler\u001b[0m\u001b[0;34m.\u001b[0m\u001b[0mshould_sync\u001b[0m\u001b[0;34m:\u001b[0m\u001b[0;34m\u001b[0m\u001b[0;34m\u001b[0m\u001b[0m\n\u001b[1;32m   1218\u001b[0m                 \u001b[0mcontext\u001b[0m\u001b[0;34m.\u001b[0m\u001b[0masync_wait\u001b[0m\u001b[0;34m(\u001b[0m\u001b[0;34m)\u001b[0m\u001b[0;34m\u001b[0m\u001b[0;34m\u001b[0m\u001b[0m\n",
            "\u001b[0;32m/usr/local/lib/python3.7/dist-packages/tensorflow/python/util/traceback_utils.py\u001b[0m in \u001b[0;36merror_handler\u001b[0;34m(*args, **kwargs)\u001b[0m\n\u001b[1;32m    148\u001b[0m     \u001b[0mfiltered_tb\u001b[0m \u001b[0;34m=\u001b[0m \u001b[0;32mNone\u001b[0m\u001b[0;34m\u001b[0m\u001b[0;34m\u001b[0m\u001b[0m\n\u001b[1;32m    149\u001b[0m     \u001b[0;32mtry\u001b[0m\u001b[0;34m:\u001b[0m\u001b[0;34m\u001b[0m\u001b[0;34m\u001b[0m\u001b[0m\n\u001b[0;32m--> 150\u001b[0;31m       \u001b[0;32mreturn\u001b[0m \u001b[0mfn\u001b[0m\u001b[0;34m(\u001b[0m\u001b[0;34m*\u001b[0m\u001b[0margs\u001b[0m\u001b[0;34m,\u001b[0m \u001b[0;34m**\u001b[0m\u001b[0mkwargs\u001b[0m\u001b[0;34m)\u001b[0m\u001b[0;34m\u001b[0m\u001b[0;34m\u001b[0m\u001b[0m\n\u001b[0m\u001b[1;32m    151\u001b[0m     \u001b[0;32mexcept\u001b[0m \u001b[0mException\u001b[0m \u001b[0;32mas\u001b[0m \u001b[0me\u001b[0m\u001b[0;34m:\u001b[0m\u001b[0;34m\u001b[0m\u001b[0;34m\u001b[0m\u001b[0m\n\u001b[1;32m    152\u001b[0m       \u001b[0mfiltered_tb\u001b[0m \u001b[0;34m=\u001b[0m \u001b[0m_process_traceback_frames\u001b[0m\u001b[0;34m(\u001b[0m\u001b[0me\u001b[0m\u001b[0;34m.\u001b[0m\u001b[0m__traceback__\u001b[0m\u001b[0;34m)\u001b[0m\u001b[0;34m\u001b[0m\u001b[0;34m\u001b[0m\u001b[0m\n",
            "\u001b[0;32m/usr/local/lib/python3.7/dist-packages/tensorflow/python/eager/def_function.py\u001b[0m in \u001b[0;36m__call__\u001b[0;34m(self, *args, **kwds)\u001b[0m\n\u001b[1;32m    908\u001b[0m \u001b[0;34m\u001b[0m\u001b[0m\n\u001b[1;32m    909\u001b[0m       \u001b[0;32mwith\u001b[0m \u001b[0mOptionalXlaContext\u001b[0m\u001b[0;34m(\u001b[0m\u001b[0mself\u001b[0m\u001b[0;34m.\u001b[0m\u001b[0m_jit_compile\u001b[0m\u001b[0;34m)\u001b[0m\u001b[0;34m:\u001b[0m\u001b[0;34m\u001b[0m\u001b[0;34m\u001b[0m\u001b[0m\n\u001b[0;32m--> 910\u001b[0;31m         \u001b[0mresult\u001b[0m \u001b[0;34m=\u001b[0m \u001b[0mself\u001b[0m\u001b[0;34m.\u001b[0m\u001b[0m_call\u001b[0m\u001b[0;34m(\u001b[0m\u001b[0;34m*\u001b[0m\u001b[0margs\u001b[0m\u001b[0;34m,\u001b[0m \u001b[0;34m**\u001b[0m\u001b[0mkwds\u001b[0m\u001b[0;34m)\u001b[0m\u001b[0;34m\u001b[0m\u001b[0;34m\u001b[0m\u001b[0m\n\u001b[0m\u001b[1;32m    911\u001b[0m \u001b[0;34m\u001b[0m\u001b[0m\n\u001b[1;32m    912\u001b[0m       \u001b[0mnew_tracing_count\u001b[0m \u001b[0;34m=\u001b[0m \u001b[0mself\u001b[0m\u001b[0;34m.\u001b[0m\u001b[0mexperimental_get_tracing_count\u001b[0m\u001b[0;34m(\u001b[0m\u001b[0;34m)\u001b[0m\u001b[0;34m\u001b[0m\u001b[0;34m\u001b[0m\u001b[0m\n",
            "\u001b[0;32m/usr/local/lib/python3.7/dist-packages/tensorflow/python/eager/def_function.py\u001b[0m in \u001b[0;36m_call\u001b[0;34m(self, *args, **kwds)\u001b[0m\n\u001b[1;32m    940\u001b[0m       \u001b[0;31m# In this case we have created variables on the first call, so we run the\u001b[0m\u001b[0;34m\u001b[0m\u001b[0;34m\u001b[0m\u001b[0;34m\u001b[0m\u001b[0m\n\u001b[1;32m    941\u001b[0m       \u001b[0;31m# defunned version which is guaranteed to never create variables.\u001b[0m\u001b[0;34m\u001b[0m\u001b[0;34m\u001b[0m\u001b[0;34m\u001b[0m\u001b[0m\n\u001b[0;32m--> 942\u001b[0;31m       \u001b[0;32mreturn\u001b[0m \u001b[0mself\u001b[0m\u001b[0;34m.\u001b[0m\u001b[0m_stateless_fn\u001b[0m\u001b[0;34m(\u001b[0m\u001b[0;34m*\u001b[0m\u001b[0margs\u001b[0m\u001b[0;34m,\u001b[0m \u001b[0;34m**\u001b[0m\u001b[0mkwds\u001b[0m\u001b[0;34m)\u001b[0m  \u001b[0;31m# pylint: disable=not-callable\u001b[0m\u001b[0;34m\u001b[0m\u001b[0;34m\u001b[0m\u001b[0m\n\u001b[0m\u001b[1;32m    943\u001b[0m     \u001b[0;32melif\u001b[0m \u001b[0mself\u001b[0m\u001b[0;34m.\u001b[0m\u001b[0m_stateful_fn\u001b[0m \u001b[0;32mis\u001b[0m \u001b[0;32mnot\u001b[0m \u001b[0;32mNone\u001b[0m\u001b[0;34m:\u001b[0m\u001b[0;34m\u001b[0m\u001b[0;34m\u001b[0m\u001b[0m\n\u001b[1;32m    944\u001b[0m       \u001b[0;31m# Release the lock early so that multiple threads can perform the call\u001b[0m\u001b[0;34m\u001b[0m\u001b[0;34m\u001b[0m\u001b[0;34m\u001b[0m\u001b[0m\n",
            "\u001b[0;32m/usr/local/lib/python3.7/dist-packages/tensorflow/python/eager/function.py\u001b[0m in \u001b[0;36m__call__\u001b[0;34m(self, *args, **kwargs)\u001b[0m\n\u001b[1;32m   3129\u001b[0m        filtered_flat_args) = self._maybe_define_function(args, kwargs)\n\u001b[1;32m   3130\u001b[0m     return graph_function._call_flat(\n\u001b[0;32m-> 3131\u001b[0;31m         filtered_flat_args, captured_inputs=graph_function.captured_inputs)  # pylint: disable=protected-access\n\u001b[0m\u001b[1;32m   3132\u001b[0m \u001b[0;34m\u001b[0m\u001b[0m\n\u001b[1;32m   3133\u001b[0m   \u001b[0;34m@\u001b[0m\u001b[0mproperty\u001b[0m\u001b[0;34m\u001b[0m\u001b[0;34m\u001b[0m\u001b[0m\n",
            "\u001b[0;32m/usr/local/lib/python3.7/dist-packages/tensorflow/python/eager/function.py\u001b[0m in \u001b[0;36m_call_flat\u001b[0;34m(self, args, captured_inputs, cancellation_manager)\u001b[0m\n\u001b[1;32m   1958\u001b[0m       \u001b[0;31m# No tape is watching; skip to running the function.\u001b[0m\u001b[0;34m\u001b[0m\u001b[0;34m\u001b[0m\u001b[0;34m\u001b[0m\u001b[0m\n\u001b[1;32m   1959\u001b[0m       return self._build_call_outputs(self._inference_function.call(\n\u001b[0;32m-> 1960\u001b[0;31m           ctx, args, cancellation_manager=cancellation_manager))\n\u001b[0m\u001b[1;32m   1961\u001b[0m     forward_backward = self._select_forward_and_backward_functions(\n\u001b[1;32m   1962\u001b[0m         \u001b[0margs\u001b[0m\u001b[0;34m,\u001b[0m\u001b[0;34m\u001b[0m\u001b[0;34m\u001b[0m\u001b[0m\n",
            "\u001b[0;32m/usr/local/lib/python3.7/dist-packages/tensorflow/python/eager/function.py\u001b[0m in \u001b[0;36mcall\u001b[0;34m(self, ctx, args, cancellation_manager)\u001b[0m\n\u001b[1;32m    601\u001b[0m               \u001b[0minputs\u001b[0m\u001b[0;34m=\u001b[0m\u001b[0margs\u001b[0m\u001b[0;34m,\u001b[0m\u001b[0;34m\u001b[0m\u001b[0;34m\u001b[0m\u001b[0m\n\u001b[1;32m    602\u001b[0m               \u001b[0mattrs\u001b[0m\u001b[0;34m=\u001b[0m\u001b[0mattrs\u001b[0m\u001b[0;34m,\u001b[0m\u001b[0;34m\u001b[0m\u001b[0;34m\u001b[0m\u001b[0m\n\u001b[0;32m--> 603\u001b[0;31m               ctx=ctx)\n\u001b[0m\u001b[1;32m    604\u001b[0m         \u001b[0;32melse\u001b[0m\u001b[0;34m:\u001b[0m\u001b[0;34m\u001b[0m\u001b[0;34m\u001b[0m\u001b[0m\n\u001b[1;32m    605\u001b[0m           outputs = execute.execute_with_cancellation(\n",
            "\u001b[0;32m/usr/local/lib/python3.7/dist-packages/tensorflow/python/eager/execute.py\u001b[0m in \u001b[0;36mquick_execute\u001b[0;34m(op_name, num_outputs, inputs, attrs, ctx, name)\u001b[0m\n\u001b[1;32m     57\u001b[0m     \u001b[0mctx\u001b[0m\u001b[0;34m.\u001b[0m\u001b[0mensure_initialized\u001b[0m\u001b[0;34m(\u001b[0m\u001b[0;34m)\u001b[0m\u001b[0;34m\u001b[0m\u001b[0;34m\u001b[0m\u001b[0m\n\u001b[1;32m     58\u001b[0m     tensors = pywrap_tfe.TFE_Py_Execute(ctx._handle, device_name, op_name,\n\u001b[0;32m---> 59\u001b[0;31m                                         inputs, attrs, num_outputs)\n\u001b[0m\u001b[1;32m     60\u001b[0m   \u001b[0;32mexcept\u001b[0m \u001b[0mcore\u001b[0m\u001b[0;34m.\u001b[0m\u001b[0m_NotOkStatusException\u001b[0m \u001b[0;32mas\u001b[0m \u001b[0me\u001b[0m\u001b[0;34m:\u001b[0m\u001b[0;34m\u001b[0m\u001b[0;34m\u001b[0m\u001b[0m\n\u001b[1;32m     61\u001b[0m     \u001b[0;32mif\u001b[0m \u001b[0mname\u001b[0m \u001b[0;32mis\u001b[0m \u001b[0;32mnot\u001b[0m \u001b[0;32mNone\u001b[0m\u001b[0;34m:\u001b[0m\u001b[0;34m\u001b[0m\u001b[0;34m\u001b[0m\u001b[0m\n",
            "\u001b[0;31mKeyboardInterrupt\u001b[0m: "
          ]
        }
      ]
    },
    {
      "cell_type": "code",
      "metadata": {
        "id": "bxQ4ynfqfcPg"
      },
      "source": [
        "\n",
        "# Confusion Matrix\n",
        "confusion_matrix(Y_test, model.predict(X_test))"
      ],
      "execution_count": null,
      "outputs": []
    },
    {
      "cell_type": "code",
      "metadata": {
        "id": "PB433wZ2feDw"
      },
      "source": [
        "score = model.evaluate(X_test, Y_test)\n",
        "\n",
        "print(\"\\n   cat_crossentropy  ||   accuracy \")\n",
        "print(\"  ____________________________________\")\n",
        "print(score)"
      ],
      "execution_count": null,
      "outputs": []
    },
    {
      "cell_type": "code",
      "metadata": {
        "id": "9zZLqqF9G-F2"
      },
      "source": [
        ""
      ],
      "execution_count": null,
      "outputs": []
    },
    {
      "cell_type": "markdown",
      "metadata": {
        "id": "ib1ZbO0xffgw"
      },
      "source": [
        "\n",
        "2.2 Second Model for 2-Layer of LSTM with more hyperparameter tunning"
      ]
    },
    {
      "cell_type": "code",
      "metadata": {
        "id": "ei9gKXyafgYs"
      },
      "source": [
        "# Model execution\n",
        "model = Sequential()\n",
        "model.add(LSTM(64, input_shape=(timesteps, input_dim), return_sequences=True, bias_regularizer=reg))\n",
        "model.add(BatchNormalization())\n",
        "model.add(Dropout(0.50))\n",
        "model.add(LSTM(48))\n",
        "model.add(Dropout(0.50))\n",
        "model.add(Dense(n_classes, activation='sigmoid'))\n",
        "print(\"Model Summary: \")\n",
        "model.summary()"
      ],
      "execution_count": null,
      "outputs": []
    },
    {
      "cell_type": "code",
      "metadata": {
        "id": "VcvGH2OcfjaU"
      },
      "source": [
        "model.compile(loss='categorical_crossentropy', optimizer='adam', metrics=['accuracy'])"
      ],
      "execution_count": null,
      "outputs": []
    },
    {
      "cell_type": "code",
      "metadata": {
        "id": "L-voDKixfkBB"
      },
      "source": [
        "# Training the model\n",
        "model.fit(X_train, Y_train, batch_size=n_batch, validation_data=(X_test, Y_test), epochs=n_epochs)"
      ],
      "execution_count": null,
      "outputs": []
    },
    {
      "cell_type": "code",
      "metadata": {
        "id": "_qxr_9-ffmgT"
      },
      "source": [
        "# Confusion Matrix\n",
        "new_confusion_matrix(Y_test, model.predict(X_test))"
      ],
      "execution_count": null,
      "outputs": []
    },
    {
      "cell_type": "code",
      "metadata": {
        "id": "KcrOSEQmfny3"
      },
      "source": [
        "\n",
        "score = model.evaluate(X_test, Y_test)\n",
        "\n",
        "print(\"\\n   cat_crossentropy  ||   accuracy \")\n",
        "print(\"  ____________________________________\")\n",
        "print(score)"
      ],
      "execution_count": null,
      "outputs": []
    },
    {
      "cell_type": "markdown",
      "metadata": {
        "id": "JPZ2ZXIW0Blx"
      },
      "source": [
        "\n",
        "\n",
        "## Federated Learning 연습_실전X\n"
      ]
    },
    {
      "cell_type": "code",
      "metadata": {
        "id": "OwJrVvnrtHyI"
      },
      "source": [
        "import tensorflow as tf\n",
        "from tensorflow.keras.models import Sequential,load_model\n",
        "from tensorflow.keras.layers import Dense,Input,Dropout,Flatten\n",
        "import pandas as pd\n",
        "import numpy as np\n",
        "import matplotlib.pyplot as plt\n",
        "import seaborn as sns\n",
        "from sklearn.metrics import confusion_matrix\n",
        "from sklearn.preprocessing import LabelEncoder, MinMaxScaler\n",
        "from sklearn.utils import shuffle"
      ],
      "execution_count": null,
      "outputs": []
    },
    {
      "cell_type": "code",
      "metadata": {
        "id": "_BzkSAuDtsUR"
      },
      "source": [
        "# Variables-\n",
        "epochs = 25\n",
        "batch_size = 16 #64\n",
        "num_classes = 6\n",
        "fig_size = (9,7)"
      ],
      "execution_count": null,
      "outputs": []
    },
    {
      "cell_type": "code",
      "metadata": {
        "id": "QByg9qUwttw2"
      },
      "source": [
        "# FUNCTIONS-\n",
        "def PREPROCESS(X , y):\n",
        "    scaler = MinMaxScaler()\n",
        "    scaler.fit(X)\n",
        "    X = scaler.transform(X)\n",
        "    y = np.array(y)\n",
        "    return X,y\n",
        "\n",
        "\n",
        "# def CREATE_MODEL(input_shape):\n",
        "#     model = Sequential()\n",
        "#     model.add(LSTM(48, input_shape=(timesteps, input_dim), return_sequences=True,bias_regularizer=reg ))\n",
        "#     model.add(BatchNormalization())\n",
        "#     model.add(Dropout(0.50))\n",
        "#     model.add(LSTM(32))\n",
        "#     model.add(Dropout(0.50))\n",
        "#     model.add(Dense(32,activation='relu'))\n",
        "\n",
        "#     model.add(Dense(num_classes, activation='sigmoid'))\n",
        "#     return model\n",
        "\n",
        "\n",
        " #LSTM\n",
        "# # Model execution\n",
        "# model = Sequential()\n",
        "# model.add(LSTM(48, input_shape=(timesteps, input_dim), return_sequences=True,bias_regularizer=reg ))\n",
        "# model.add(BatchNormalization())\n",
        "# model.add(Dropout(0.50))\n",
        "# model.add(LSTM(32))\n",
        "# model.add(Dropout(0.50))\n",
        "# model.add(Dense(n_classes, activation='sigmoid'))\n",
        "# print(\"Model Summary: \")\n",
        "# model.summary()\n",
        "\n",
        "# def COMPILE(model):\n",
        "#     model.compile(\n",
        "#     optimizer='adam',\n",
        "#     loss='sparse_categorical_crossentropy',\n",
        "#     metrics=['accuracy']\n",
        "#     )\n",
        "#     return model;\n",
        "    \n",
        "def FIT(model,X,y,i):\n",
        "    history = model.fit(\n",
        "    X,\n",
        "    y,\n",
        "    validation_split=0.2,\n",
        "    batch_size=batch_size,\n",
        "    epochs=epochs,\n",
        "    callbacks=[\n",
        "        tf.keras.callbacks.ModelCheckpoint(f'./model_{i}.h5', save_best_only=True),\n",
        "        tf.keras.callbacks.ReduceLROnPlateau(\n",
        "            monitor='val_loss',\n",
        "            factor=0.1,\n",
        "            patience=1\n",
        "        )\n",
        "    ],\n",
        "    verbose=0\n",
        "    )\n",
        "    return history,model\n",
        "\n",
        "def PLOT(history,i):\n",
        "    epochs_range = range(epochs)\n",
        "    train_loss = history.history['loss']\n",
        "    val_loss = history.history['val_loss']\n",
        "    train_acc = history.history['accuracy']\n",
        "    val_acc = history.history['val_accuracy']\n",
        "    \n",
        "    plt.figure(figsize=fig_size)\n",
        "    plt.plot(epochs_range,train_loss,label=\"Training Loss\")\n",
        "    plt.plot(epochs_range,val_loss,label=\"Validation Loss\")\n",
        "    plt.xlabel(\"Epoch\")\n",
        "    plt.ylabel(\"Loss\")\n",
        "    plt.legend()\n",
        "    plt.title(f\"Model {i} - Loss Over Time\")\n",
        "    plt.show()\n",
        "    \n",
        "    plt.figure(figsize=fig_size)\n",
        "    plt.plot(epochs_range,train_acc,label=\"Training accuracy\")\n",
        "    plt.plot(epochs_range,val_acc,label=\"Validation accuracy\")\n",
        "    plt.xlabel(\"Epoch\")\n",
        "    plt.ylabel(\"accuracy\")\n",
        "    plt.legend()\n",
        "    plt.title(f\"Model {i} - Accuracy\")\n",
        "    plt.show()\n",
        "\n",
        "    \n",
        "def LOAD_MODELS():\n",
        "    for i in range(1,4):\n",
        "        model = load_model(f'./model_{i}.h5')\n",
        "        all_models.append(model)\n",
        "\n",
        "def APPLY_WEIGHT_FUNCTION(weights):\n",
        "    avg_model_weights = []\n",
        "    n_models = len(all_models) #4\n",
        "    n_layers = len(all_models[0].get_weights())\n",
        "    for layer in range(n_layers):\n",
        "        layer_weights = np.array([model.get_weights()[layer] for model in all_models])\n",
        "        avg_layer_weights = np.average(layer_weights, axis=0, weights=weights)\n",
        "        avg_model_weights.append(avg_layer_weights)\n",
        "    return avg_model_weights;"
      ],
      "execution_count": null,
      "outputs": []
    },
    {
      "cell_type": "markdown",
      "metadata": {
        "id": "PiRv9FenzkcK"
      },
      "source": [
        "## Model replica number-1\n"
      ]
    },
    {
      "cell_type": "code",
      "metadata": {
        "id": "OipXMZQ0zmP5"
      },
      "source": [
        "# MODEL REPLICA NO.1\n",
        "X_train_1 = X_train[0:1000] #X_train : 7352 (1838)\n",
        "Y_train_1 = Y_train[0:1000] #Y_train : 7352"
      ],
      "execution_count": null,
      "outputs": []
    },
    {
      "cell_type": "code",
      "metadata": {
        "id": "sfQMVkL81n6b"
      },
      "source": [
        "# X_train_1, y_train_1 = PREPROCESS(X_train_1,y_train_1);"
      ],
      "execution_count": null,
      "outputs": []
    },
    {
      "cell_type": "code",
      "metadata": {
        "id": "sPvQN261EmZA"
      },
      "source": [
        "reg = L1L2(0.01, 0.01)"
      ],
      "execution_count": null,
      "outputs": []
    },
    {
      "cell_type": "code",
      "metadata": {
        "colab": {
          "base_uri": "https://localhost:8080/"
        },
        "id": "n4yeJdQi99Pu",
        "outputId": "a2ab963d-0bb6-414e-a53d-1b1d3c2dde89"
      },
      "source": [
        "model_1 = Sequential()\n",
        "model_1.add(LSTM(48, input_shape=(timesteps, input_dim), return_sequences=True,bias_regularizer=reg ))\n",
        "model_1.add(BatchNormalization())\n",
        "model_1.add(Dropout(0.50))\n",
        "model_1.add(LSTM(32))\n",
        "model_1.add(Dropout(0.50))\n",
        "model_1.add(Dense(n_classes, activation='sigmoid'))\n",
        "print(\"Model Summary: \")\n",
        "model_1.summary()"
      ],
      "execution_count": null,
      "outputs": [
        {
          "output_type": "stream",
          "name": "stdout",
          "text": [
            "Model Summary: \n",
            "Model: \"sequential\"\n",
            "_________________________________________________________________\n",
            " Layer (type)                Output Shape              Param #   \n",
            "=================================================================\n",
            " lstm (LSTM)                 (None, 128, 48)           11136     \n",
            "                                                                 \n",
            " batch_normalization (BatchN  (None, 128, 48)          192       \n",
            " ormalization)                                                   \n",
            "                                                                 \n",
            " dropout (Dropout)           (None, 128, 48)           0         \n",
            "                                                                 \n",
            " lstm_1 (LSTM)               (None, 32)                10368     \n",
            "                                                                 \n",
            " dropout_1 (Dropout)         (None, 32)                0         \n",
            "                                                                 \n",
            " dense (Dense)               (None, 6)                 198       \n",
            "                                                                 \n",
            "=================================================================\n",
            "Total params: 21,894\n",
            "Trainable params: 21,798\n",
            "Non-trainable params: 96\n",
            "_________________________________________________________________\n"
          ]
        }
      ]
    },
    {
      "cell_type": "code",
      "metadata": {
        "id": "_AjL_vof-JOh"
      },
      "source": [
        "model_1.compile(loss='categorical_crossentropy', optimizer='adam', metrics=['accuracy'])"
      ],
      "execution_count": null,
      "outputs": []
    },
    {
      "cell_type": "code",
      "metadata": {
        "colab": {
          "base_uri": "https://localhost:8080/"
        },
        "id": "r7NbxXoz98k0",
        "outputId": "168f513b-03e0-4252-927e-50f240f4fba8"
      },
      "source": [
        "# Training the model\n",
        "history1= model_1.fit(X_train_1, Y_train_1, batch_size=16, validation_data=(X_test, Y_test), epochs=50,\n",
        "callbacks=[\n",
        "      tf.keras.callbacks.ModelCheckpoint(f'./model_{1}.h5', save_best_only=True),\n",
        "      tf.keras.callbacks.ReduceLROnPlateau(\n",
        "          monitor='val_loss',\n",
        "          factor=0.1,\n",
        "          patience=1\n",
        "      )\n",
        "  ])"
      ],
      "execution_count": null,
      "outputs": [
        {
          "metadata": {
            "tags": null
          },
          "name": "stdout",
          "output_type": "stream",
          "text": [
            "Epoch 1/50\n",
            "63/63 [==============================] - 17s 152ms/step - loss: 2.2901 - accuracy: 0.4680 - val_loss: 2.4802 - val_accuracy: 0.3831 - lr: 0.0010\n",
            "Epoch 2/50\n",
            "63/63 [==============================] - 7s 109ms/step - loss: 1.8194 - accuracy: 0.6290 - val_loss: 2.1180 - val_accuracy: 0.4720 - lr: 0.0010\n",
            "Epoch 3/50\n",
            "63/63 [==============================] - 7s 110ms/step - loss: 1.5853 - accuracy: 0.6950 - val_loss: 1.8047 - val_accuracy: 0.5701 - lr: 0.0010\n",
            "Epoch 4/50\n",
            "63/63 [==============================] - 7s 108ms/step - loss: 1.3673 - accuracy: 0.7640 - val_loss: 2.1828 - val_accuracy: 0.4113 - lr: 0.0010\n",
            "Epoch 5/50\n",
            "63/63 [==============================] - 8s 135ms/step - loss: 1.3092 - accuracy: 0.7580 - val_loss: 1.8051 - val_accuracy: 0.5657 - lr: 1.0000e-04\n",
            "Epoch 6/50\n",
            "63/63 [==============================] - 7s 109ms/step - loss: 1.2080 - accuracy: 0.8220 - val_loss: 1.7433 - val_accuracy: 0.5996 - lr: 1.0000e-05\n",
            "Epoch 7/50\n",
            "63/63 [==============================] - 7s 109ms/step - loss: 1.2242 - accuracy: 0.8100 - val_loss: 1.6754 - val_accuracy: 0.6328 - lr: 1.0000e-05\n",
            "Epoch 8/50\n",
            "63/63 [==============================] - 7s 110ms/step - loss: 1.2294 - accuracy: 0.8100 - val_loss: 1.6192 - val_accuracy: 0.6532 - lr: 1.0000e-05\n",
            "Epoch 9/50\n",
            "63/63 [==============================] - 7s 109ms/step - loss: 1.2313 - accuracy: 0.8010 - val_loss: 1.5774 - val_accuracy: 0.6763 - lr: 1.0000e-05\n",
            "Epoch 10/50\n",
            "63/63 [==============================] - 7s 108ms/step - loss: 1.2320 - accuracy: 0.8130 - val_loss: 1.5450 - val_accuracy: 0.6892 - lr: 1.0000e-05\n",
            "Epoch 11/50\n",
            "63/63 [==============================] - 7s 108ms/step - loss: 1.2266 - accuracy: 0.7990 - val_loss: 1.5247 - val_accuracy: 0.7024 - lr: 1.0000e-05\n",
            "Epoch 12/50\n",
            "63/63 [==============================] - 7s 108ms/step - loss: 1.2374 - accuracy: 0.7900 - val_loss: 1.5154 - val_accuracy: 0.7048 - lr: 1.0000e-05\n",
            "Epoch 13/50\n",
            "63/63 [==============================] - 7s 109ms/step - loss: 1.2117 - accuracy: 0.8030 - val_loss: 1.5058 - val_accuracy: 0.7116 - lr: 1.0000e-05\n",
            "Epoch 14/50\n",
            "63/63 [==============================] - 9s 136ms/step - loss: 1.2122 - accuracy: 0.8010 - val_loss: 1.5015 - val_accuracy: 0.7133 - lr: 1.0000e-05\n",
            "Epoch 15/50\n",
            "63/63 [==============================] - 7s 109ms/step - loss: 1.2179 - accuracy: 0.8120 - val_loss: 1.4996 - val_accuracy: 0.7109 - lr: 1.0000e-05\n",
            "Epoch 16/50\n",
            "63/63 [==============================] - 8s 136ms/step - loss: 1.1747 - accuracy: 0.8290 - val_loss: 1.4949 - val_accuracy: 0.7167 - lr: 1.0000e-05\n",
            "Epoch 17/50\n",
            "63/63 [==============================] - 7s 108ms/step - loss: 1.1942 - accuracy: 0.8170 - val_loss: 1.4944 - val_accuracy: 0.7173 - lr: 1.0000e-05\n",
            "Epoch 18/50\n",
            "63/63 [==============================] - 7s 108ms/step - loss: 1.1781 - accuracy: 0.8310 - val_loss: 1.4935 - val_accuracy: 0.7194 - lr: 1.0000e-05\n",
            "Epoch 19/50\n",
            "63/63 [==============================] - 7s 109ms/step - loss: 1.2003 - accuracy: 0.8130 - val_loss: 1.4889 - val_accuracy: 0.7201 - lr: 1.0000e-05\n",
            "Epoch 20/50\n",
            "63/63 [==============================] - 8s 135ms/step - loss: 1.1956 - accuracy: 0.8160 - val_loss: 1.4902 - val_accuracy: 0.7204 - lr: 1.0000e-05\n",
            "Epoch 21/50\n",
            "63/63 [==============================] - 7s 107ms/step - loss: 1.1870 - accuracy: 0.8230 - val_loss: 1.4882 - val_accuracy: 0.7201 - lr: 1.0000e-06\n",
            "Epoch 22/50\n",
            "63/63 [==============================] - 7s 107ms/step - loss: 1.2021 - accuracy: 0.8130 - val_loss: 1.4882 - val_accuracy: 0.7218 - lr: 1.0000e-06\n",
            "Epoch 23/50\n",
            "63/63 [==============================] - 7s 105ms/step - loss: 1.1883 - accuracy: 0.8200 - val_loss: 1.4884 - val_accuracy: 0.7231 - lr: 1.0000e-07\n",
            "Epoch 24/50\n",
            "63/63 [==============================] - 7s 105ms/step - loss: 1.1721 - accuracy: 0.8410 - val_loss: 1.4881 - val_accuracy: 0.7231 - lr: 1.0000e-08\n",
            "Epoch 25/50\n",
            "63/63 [==============================] - 7s 106ms/step - loss: 1.1868 - accuracy: 0.8220 - val_loss: 1.4879 - val_accuracy: 0.7234 - lr: 1.0000e-08\n",
            "Epoch 26/50\n",
            "63/63 [==============================] - 7s 106ms/step - loss: 1.1693 - accuracy: 0.8310 - val_loss: 1.4879 - val_accuracy: 0.7224 - lr: 1.0000e-08\n",
            "Epoch 27/50\n",
            "63/63 [==============================] - 7s 105ms/step - loss: 1.1932 - accuracy: 0.8190 - val_loss: 1.4875 - val_accuracy: 0.7234 - lr: 1.0000e-09\n",
            "Epoch 28/50\n",
            "63/63 [==============================] - 7s 105ms/step - loss: 1.1706 - accuracy: 0.8250 - val_loss: 1.4876 - val_accuracy: 0.7231 - lr: 1.0000e-09\n",
            "Epoch 29/50\n",
            "63/63 [==============================] - 7s 105ms/step - loss: 1.2008 - accuracy: 0.8150 - val_loss: 1.4877 - val_accuracy: 0.7241 - lr: 1.0000e-10\n",
            "Epoch 30/50\n",
            "63/63 [==============================] - 7s 105ms/step - loss: 1.1850 - accuracy: 0.8250 - val_loss: 1.4876 - val_accuracy: 0.7241 - lr: 1.0000e-11\n",
            "Epoch 31/50\n",
            "63/63 [==============================] - 7s 106ms/step - loss: 1.1874 - accuracy: 0.8210 - val_loss: 1.4873 - val_accuracy: 0.7238 - lr: 1.0000e-12\n",
            "Epoch 32/50\n",
            "63/63 [==============================] - 7s 105ms/step - loss: 1.1797 - accuracy: 0.8320 - val_loss: 1.4879 - val_accuracy: 0.7234 - lr: 1.0000e-12\n",
            "Epoch 33/50\n",
            "63/63 [==============================] - 7s 106ms/step - loss: 1.1731 - accuracy: 0.8370 - val_loss: 1.4878 - val_accuracy: 0.7231 - lr: 1.0000e-13\n",
            "Epoch 34/50\n",
            "63/63 [==============================] - 7s 106ms/step - loss: 1.1848 - accuracy: 0.8210 - val_loss: 1.4873 - val_accuracy: 0.7231 - lr: 1.0000e-14\n",
            "Epoch 35/50\n",
            "63/63 [==============================] - 7s 105ms/step - loss: 1.1960 - accuracy: 0.8260 - val_loss: 1.4879 - val_accuracy: 0.7238 - lr: 1.0000e-15\n",
            "Epoch 36/50\n",
            "63/63 [==============================] - 7s 105ms/step - loss: 1.1756 - accuracy: 0.8380 - val_loss: 1.4876 - val_accuracy: 0.7241 - lr: 1.0000e-16\n",
            "Epoch 37/50\n",
            "63/63 [==============================] - 8s 135ms/step - loss: 1.1882 - accuracy: 0.8260 - val_loss: 1.4872 - val_accuracy: 0.7241 - lr: 1.0000e-17\n",
            "Epoch 38/50\n",
            "63/63 [==============================] - 7s 105ms/step - loss: 1.1683 - accuracy: 0.8270 - val_loss: 1.4878 - val_accuracy: 0.7228 - lr: 1.0000e-18\n",
            "Epoch 39/50\n",
            "63/63 [==============================] - 7s 106ms/step - loss: 1.1847 - accuracy: 0.8290 - val_loss: 1.4876 - val_accuracy: 0.7234 - lr: 1.0000e-19\n",
            "Epoch 40/50\n",
            "63/63 [==============================] - 7s 105ms/step - loss: 1.1737 - accuracy: 0.8280 - val_loss: 1.4875 - val_accuracy: 0.7238 - lr: 1.0000e-20\n",
            "Epoch 41/50\n",
            "63/63 [==============================] - 7s 105ms/step - loss: 1.1755 - accuracy: 0.8340 - val_loss: 1.4876 - val_accuracy: 0.7231 - lr: 1.0000e-21\n",
            "Epoch 42/50\n",
            "63/63 [==============================] - 7s 106ms/step - loss: 1.1625 - accuracy: 0.8520 - val_loss: 1.4877 - val_accuracy: 0.7234 - lr: 1.0000e-22\n",
            "Epoch 43/50\n",
            "63/63 [==============================] - 7s 105ms/step - loss: 1.1933 - accuracy: 0.8170 - val_loss: 1.4874 - val_accuracy: 0.7238 - lr: 1.0000e-23\n",
            "Epoch 44/50\n",
            "63/63 [==============================] - 7s 105ms/step - loss: 1.1776 - accuracy: 0.8240 - val_loss: 1.4872 - val_accuracy: 0.7234 - lr: 1.0000e-24\n",
            "Epoch 45/50\n",
            "63/63 [==============================] - 7s 106ms/step - loss: 1.1856 - accuracy: 0.8240 - val_loss: 1.4878 - val_accuracy: 0.7234 - lr: 1.0000e-25\n",
            "Epoch 46/50\n",
            "63/63 [==============================] - 7s 105ms/step - loss: 1.2047 - accuracy: 0.8090 - val_loss: 1.4881 - val_accuracy: 0.7224 - lr: 1.0000e-26\n",
            "Epoch 47/50\n",
            "63/63 [==============================] - 7s 105ms/step - loss: 1.1967 - accuracy: 0.8200 - val_loss: 1.4874 - val_accuracy: 0.7231 - lr: 1.0000e-27\n",
            "Epoch 48/50\n",
            "63/63 [==============================] - 7s 106ms/step - loss: 1.1802 - accuracy: 0.8170 - val_loss: 1.4875 - val_accuracy: 0.7231 - lr: 1.0000e-28\n",
            "Epoch 49/50\n",
            "63/63 [==============================] - 7s 106ms/step - loss: 1.1893 - accuracy: 0.8210 - val_loss: 1.4873 - val_accuracy: 0.7234 - lr: 1.0000e-29\n",
            "Epoch 50/50\n",
            "63/63 [==============================] - 7s 106ms/step - loss: 1.1915 - accuracy: 0.8210 - val_loss: 1.4881 - val_accuracy: 0.7224 - lr: 1.0000e-30\n"
          ]
        }
      ]
    },
    {
      "cell_type": "code",
      "metadata": {
        "colab": {
          "base_uri": "https://localhost:8080/",
          "height": 899
        },
        "id": "Mbtd9USSAomV",
        "outputId": "265cb5cb-74d8-4f07-987d-ac67ff742e6d"
      },
      "source": [
        "epochs_range = range(50)\n",
        "\n",
        "train_loss = history1.history['loss']\n",
        "val_loss = history1.history['val_loss']\n",
        "train_acc = history1.history['accuracy']\n",
        "val_acc = history1.history['val_accuracy']\n",
        "    \n",
        "plt.figure(figsize=fig_size)\n",
        "plt.plot(epochs_range,train_loss,label=\"Training Loss\")\n",
        "plt.plot(epochs_range,val_loss,label=\"Validation Loss\")\n",
        "plt.xlabel(\"Epoch\")\n",
        "plt.ylabel(\"Loss\")\n",
        "plt.legend()\n",
        "plt.title(f\"Model {1} - Loss Over Time\")\n",
        "plt.show()\n",
        "\n",
        "plt.figure(figsize=fig_size)\n",
        "plt.plot(epochs_range,train_acc,label=\"Training accuracy\")\n",
        "plt.plot(epochs_range,val_acc,label=\"Validation accuracy\")\n",
        "plt.xlabel(\"Epoch\")\n",
        "plt.ylabel(\"accuracy\")\n",
        "plt.legend()\n",
        "plt.title(f\"Model {1} - Accuracy\")\n",
        "plt.show()"
      ],
      "execution_count": null,
      "outputs": [
        {
          "output_type": "display_data",
          "data": {
            "image/png": "[encoded data removed]",
            "text/plain": [
              "<Figure size 648x504 with 1 Axes>"
            ]
          },
          "metadata": {
            "needs_background": "light"
          }
        },
        {
          "output_type": "display_data",
          "data": {
            "image/png": "[encoded data removed]",
            "text/plain": [
              "<Figure size 648x504 with 1 Axes>"
            ]
          },
          "metadata": {
            "needs_background": "light"
          }
        }
      ]
    },
    {
      "cell_type": "code",
      "metadata": {
        "id": "fOlKvkqGHPJ1"
      },
      "source": [
        "# MODEL REPLICA NO.2\n",
        "X_train_2 = X_train[1000:2000]  # [1838:3676] \n",
        "Y_train_2 = Y_train[1000:2000]"
      ],
      "execution_count": null,
      "outputs": []
    },
    {
      "cell_type": "code",
      "metadata": {
        "colab": {
          "base_uri": "https://localhost:8080/"
        },
        "id": "ggFK3GyuHv0D",
        "outputId": "b01cff2a-9c11-4907-f1fb-0823c788184d"
      },
      "source": [
        "model_2 = Sequential()\n",
        "model_2.add(LSTM(48, input_shape=(timesteps, input_dim), return_sequences=True,bias_regularizer=reg ))\n",
        "model_2.add(BatchNormalization())\n",
        "model_2.add(Dropout(0.50))\n",
        "model_2.add(LSTM(32))\n",
        "model_2.add(Dropout(0.50))\n",
        "model_2.add(Dense(n_classes, activation='sigmoid'))\n",
        "print(\"Model Summary: \")\n",
        "model_2.summary()"
      ],
      "execution_count": null,
      "outputs": [
        {
          "output_type": "stream",
          "name": "stdout",
          "text": [
            "Model Summary: \n",
            "Model: \"sequential_2\"\n",
            "_________________________________________________________________\n",
            " Layer (type)                Output Shape              Param #   \n",
            "=================================================================\n",
            " lstm_4 (LSTM)               (None, 128, 48)           11136     \n",
            "                                                                 \n",
            " batch_normalization_2 (Batc  (None, 128, 48)          192       \n",
            " hNormalization)                                                 \n",
            "                                                                 \n",
            " dropout_4 (Dropout)         (None, 128, 48)           0         \n",
            "                                                                 \n",
            " lstm_5 (LSTM)               (None, 32)                10368     \n",
            "                                                                 \n",
            " dropout_5 (Dropout)         (None, 32)                0         \n",
            "                                                                 \n",
            " dense_2 (Dense)             (None, 6)                 198       \n",
            "                                                                 \n",
            "=================================================================\n",
            "Total params: 21,894\n",
            "Trainable params: 21,798\n",
            "Non-trainable params: 96\n",
            "_________________________________________________________________\n"
          ]
        }
      ]
    },
    {
      "cell_type": "code",
      "metadata": {
        "id": "I2bDGDYuH1k9"
      },
      "source": [
        "model_2.compile(loss='categorical_crossentropy', optimizer='adam', metrics=['accuracy'])"
      ],
      "execution_count": null,
      "outputs": []
    },
    {
      "cell_type": "code",
      "metadata": {
        "colab": {
          "base_uri": "https://localhost:8080/"
        },
        "id": "e4oHOlZQH5ZU",
        "outputId": "5b89a814-94de-4d91-f10a-917d6dc1cf05"
      },
      "source": [
        "# Training the model\n",
        "history2= model_2.fit(X_train_2, Y_train_2, batch_size=16, validation_data=(X_test, Y_test), epochs=50,\n",
        "                      callbacks=[\n",
        "      tf.keras.callbacks.ModelCheckpoint(f'./model_{2}.h5', save_best_only=True),\n",
        "      tf.keras.callbacks.ReduceLROnPlateau(\n",
        "          monitor='val_loss',\n",
        "          factor=0.1,\n",
        "          patience=1\n",
        "      )\n",
        "  ])"
      ],
      "execution_count": null,
      "outputs": [
        {
          "output_type": "stream",
          "name": "stdout",
          "text": [
            "Epoch 1/50\n",
            "63/63 [==============================] - 12s 122ms/step - loss: 2.3140 - accuracy: 0.4590 - val_loss: 2.4810 - val_accuracy: 0.3098 - lr: 0.0010\n",
            "Epoch 2/50\n",
            "63/63 [==============================] - 7s 105ms/step - loss: 1.7946 - accuracy: 0.6260 - val_loss: 2.3490 - val_accuracy: 0.3003 - lr: 0.0010\n",
            "Epoch 3/50\n",
            "63/63 [==============================] - 7s 106ms/step - loss: 1.5460 - accuracy: 0.7000 - val_loss: 2.3458 - val_accuracy: 0.4459 - lr: 0.0010\n",
            "Epoch 4/50\n",
            "63/63 [==============================] - 7s 107ms/step - loss: 1.3344 - accuracy: 0.7680 - val_loss: 1.6966 - val_accuracy: 0.6128 - lr: 0.0010\n",
            "Epoch 5/50\n",
            "63/63 [==============================] - 7s 105ms/step - loss: 1.2263 - accuracy: 0.8080 - val_loss: 2.1842 - val_accuracy: 0.5389 - lr: 0.0010\n",
            "Epoch 6/50\n",
            "63/63 [==============================] - 7s 106ms/step - loss: 1.1107 - accuracy: 0.8200 - val_loss: 1.7243 - val_accuracy: 0.6284 - lr: 1.0000e-04\n",
            "Epoch 7/50\n",
            "63/63 [==============================] - 7s 106ms/step - loss: 1.0447 - accuracy: 0.8630 - val_loss: 1.6424 - val_accuracy: 0.6535 - lr: 1.0000e-05\n",
            "Epoch 8/50\n",
            "63/63 [==============================] - 7s 105ms/step - loss: 1.0166 - accuracy: 0.8800 - val_loss: 1.5984 - val_accuracy: 0.6732 - lr: 1.0000e-05\n",
            "Epoch 9/50\n",
            "63/63 [==============================] - 7s 106ms/step - loss: 1.0381 - accuracy: 0.8640 - val_loss: 1.5684 - val_accuracy: 0.6814 - lr: 1.0000e-05\n",
            "Epoch 10/50\n",
            "63/63 [==============================] - 7s 105ms/step - loss: 1.0392 - accuracy: 0.8700 - val_loss: 1.5545 - val_accuracy: 0.6844 - lr: 1.0000e-05\n",
            "Epoch 11/50\n",
            "63/63 [==============================] - 7s 105ms/step - loss: 1.0373 - accuracy: 0.8700 - val_loss: 1.5486 - val_accuracy: 0.6844 - lr: 1.0000e-05\n",
            "Epoch 12/50\n",
            "63/63 [==============================] - 7s 105ms/step - loss: 1.0092 - accuracy: 0.8770 - val_loss: 1.5460 - val_accuracy: 0.6878 - lr: 1.0000e-05\n",
            "Epoch 13/50\n",
            "63/63 [==============================] - 7s 106ms/step - loss: 1.0230 - accuracy: 0.8780 - val_loss: 1.5434 - val_accuracy: 0.6885 - lr: 1.0000e-05\n",
            "Epoch 14/50\n",
            "63/63 [==============================] - 7s 106ms/step - loss: 1.0199 - accuracy: 0.8730 - val_loss: 1.5414 - val_accuracy: 0.6912 - lr: 1.0000e-05\n",
            "Epoch 15/50\n",
            "63/63 [==============================] - 7s 106ms/step - loss: 1.0127 - accuracy: 0.8880 - val_loss: 1.5452 - val_accuracy: 0.6882 - lr: 1.0000e-05\n",
            "Epoch 16/50\n",
            "63/63 [==============================] - 7s 106ms/step - loss: 1.0497 - accuracy: 0.8680 - val_loss: 1.5440 - val_accuracy: 0.6878 - lr: 1.0000e-06\n",
            "Epoch 17/50\n",
            "63/63 [==============================] - 7s 105ms/step - loss: 1.0474 - accuracy: 0.8630 - val_loss: 1.5439 - val_accuracy: 0.6878 - lr: 1.0000e-07\n",
            "Epoch 18/50\n",
            "63/63 [==============================] - 7s 105ms/step - loss: 1.0326 - accuracy: 0.8700 - val_loss: 1.5440 - val_accuracy: 0.6888 - lr: 1.0000e-08\n",
            "Epoch 19/50\n",
            "63/63 [==============================] - 7s 107ms/step - loss: 1.0091 - accuracy: 0.8750 - val_loss: 1.5438 - val_accuracy: 0.6882 - lr: 1.0000e-09\n",
            "Epoch 20/50\n",
            "63/63 [==============================] - 7s 106ms/step - loss: 1.0341 - accuracy: 0.8660 - val_loss: 1.5439 - val_accuracy: 0.6888 - lr: 1.0000e-10\n",
            "Epoch 21/50\n",
            "63/63 [==============================] - 8s 133ms/step - loss: 1.0336 - accuracy: 0.8700 - val_loss: 1.5439 - val_accuracy: 0.6888 - lr: 1.0000e-11\n",
            "Epoch 22/50\n",
            "63/63 [==============================] - 7s 105ms/step - loss: 1.0037 - accuracy: 0.8860 - val_loss: 1.5447 - val_accuracy: 0.6892 - lr: 1.0000e-12\n",
            "Epoch 23/50\n",
            "63/63 [==============================] - 7s 105ms/step - loss: 1.0517 - accuracy: 0.8650 - val_loss: 1.5440 - val_accuracy: 0.6888 - lr: 1.0000e-13\n",
            "Epoch 24/50\n",
            "63/63 [==============================] - 7s 105ms/step - loss: 1.0479 - accuracy: 0.8630 - val_loss: 1.5435 - val_accuracy: 0.6892 - lr: 1.0000e-14\n",
            "Epoch 25/50\n",
            "63/63 [==============================] - 7s 105ms/step - loss: 1.0455 - accuracy: 0.8570 - val_loss: 1.5425 - val_accuracy: 0.6888 - lr: 1.0000e-15\n",
            "Epoch 26/50\n",
            "63/63 [==============================] - 7s 105ms/step - loss: 1.0065 - accuracy: 0.8770 - val_loss: 1.5436 - val_accuracy: 0.6888 - lr: 1.0000e-16\n",
            "Epoch 27/50\n",
            "63/63 [==============================] - 6s 104ms/step - loss: 1.0236 - accuracy: 0.8780 - val_loss: 1.5445 - val_accuracy: 0.6885 - lr: 1.0000e-17\n",
            "Epoch 28/50\n",
            "63/63 [==============================] - 7s 106ms/step - loss: 1.0125 - accuracy: 0.8740 - val_loss: 1.5431 - val_accuracy: 0.6885 - lr: 1.0000e-18\n",
            "Epoch 29/50\n",
            "63/63 [==============================] - 7s 106ms/step - loss: 1.0379 - accuracy: 0.8690 - val_loss: 1.5435 - val_accuracy: 0.6882 - lr: 1.0000e-19\n",
            "Epoch 30/50\n",
            "63/63 [==============================] - 7s 106ms/step - loss: 1.0324 - accuracy: 0.8680 - val_loss: 1.5420 - val_accuracy: 0.6878 - lr: 1.0000e-20\n",
            "Epoch 31/50\n",
            "63/63 [==============================] - 7s 106ms/step - loss: 1.0079 - accuracy: 0.8810 - val_loss: 1.5439 - val_accuracy: 0.6875 - lr: 1.0000e-21\n",
            "Epoch 32/50\n",
            "63/63 [==============================] - 7s 105ms/step - loss: 1.0276 - accuracy: 0.8680 - val_loss: 1.5441 - val_accuracy: 0.6882 - lr: 1.0000e-22\n",
            "Epoch 33/50\n",
            "63/63 [==============================] - 7s 105ms/step - loss: 1.0309 - accuracy: 0.8650 - val_loss: 1.5436 - val_accuracy: 0.6885 - lr: 1.0000e-23\n",
            "Epoch 34/50\n",
            "63/63 [==============================] - 7s 105ms/step - loss: 1.0235 - accuracy: 0.8740 - val_loss: 1.5429 - val_accuracy: 0.6888 - lr: 1.0000e-24\n",
            "Epoch 35/50\n",
            "63/63 [==============================] - 7s 105ms/step - loss: 1.0172 - accuracy: 0.8700 - val_loss: 1.5431 - val_accuracy: 0.6885 - lr: 1.0000e-25\n",
            "Epoch 36/50\n",
            "63/63 [==============================] - 7s 105ms/step - loss: 1.0243 - accuracy: 0.8770 - val_loss: 1.5437 - val_accuracy: 0.6885 - lr: 1.0000e-26\n",
            "Epoch 37/50\n",
            "63/63 [==============================] - 7s 105ms/step - loss: 1.0478 - accuracy: 0.8540 - val_loss: 1.5443 - val_accuracy: 0.6875 - lr: 1.0000e-27\n",
            "Epoch 38/50\n",
            "63/63 [==============================] - 7s 105ms/step - loss: 1.0253 - accuracy: 0.8740 - val_loss: 1.5441 - val_accuracy: 0.6885 - lr: 1.0000e-28\n",
            "Epoch 39/50\n",
            "63/63 [==============================] - 7s 106ms/step - loss: 1.0123 - accuracy: 0.8770 - val_loss: 1.5438 - val_accuracy: 0.6888 - lr: 1.0000e-29\n",
            "Epoch 40/50\n",
            "63/63 [==============================] - 7s 105ms/step - loss: 1.0217 - accuracy: 0.8650 - val_loss: 1.5433 - val_accuracy: 0.6885 - lr: 1.0000e-30\n",
            "Epoch 41/50\n",
            "63/63 [==============================] - 7s 105ms/step - loss: 1.0152 - accuracy: 0.8700 - val_loss: 1.5447 - val_accuracy: 0.6882 - lr: 1.0000e-31\n",
            "Epoch 42/50\n",
            "63/63 [==============================] - 7s 105ms/step - loss: 1.0433 - accuracy: 0.8650 - val_loss: 1.5445 - val_accuracy: 0.6882 - lr: 1.0000e-32\n",
            "Epoch 43/50\n",
            "63/63 [==============================] - 7s 107ms/step - loss: 1.0507 - accuracy: 0.8690 - val_loss: 1.5450 - val_accuracy: 0.6882 - lr: 1.0000e-33\n",
            "Epoch 44/50\n",
            "63/63 [==============================] - 7s 105ms/step - loss: 1.0157 - accuracy: 0.8780 - val_loss: 1.5447 - val_accuracy: 0.6885 - lr: 1.0000e-34\n",
            "Epoch 45/50\n",
            "63/63 [==============================] - 7s 106ms/step - loss: 1.0247 - accuracy: 0.8770 - val_loss: 1.5450 - val_accuracy: 0.6885 - lr: 1.0000e-35\n",
            "Epoch 46/50\n",
            "63/63 [==============================] - 7s 105ms/step - loss: 1.0363 - accuracy: 0.8650 - val_loss: 1.5433 - val_accuracy: 0.6888 - lr: 1.0000e-36\n",
            "Epoch 47/50\n",
            "63/63 [==============================] - 7s 105ms/step - loss: 1.0307 - accuracy: 0.8730 - val_loss: 1.5440 - val_accuracy: 0.6882 - lr: 1.0000e-37\n",
            "Epoch 48/50\n",
            "63/63 [==============================] - 8s 135ms/step - loss: 1.0406 - accuracy: 0.8660 - val_loss: 1.5437 - val_accuracy: 0.6885 - lr: 1.0000e-38\n",
            "Epoch 49/50\n",
            "63/63 [==============================] - 7s 107ms/step - loss: 1.0187 - accuracy: 0.8740 - val_loss: 1.5429 - val_accuracy: 0.6895 - lr: 1.0000e-39\n",
            "Epoch 50/50\n",
            "63/63 [==============================] - 7s 106ms/step - loss: 1.0081 - accuracy: 0.8750 - val_loss: 1.5437 - val_accuracy: 0.6892 - lr: 9.9999e-41\n"
          ]
        }
      ]
    },
    {
      "cell_type": "code",
      "metadata": {
        "colab": {
          "base_uri": "https://localhost:8080/",
          "height": 899
        },
        "id": "Fo7Rdjn9H-gP",
        "outputId": "34a9c33f-599e-493e-8b4d-110e7fefc5b7"
      },
      "source": [
        "epochs_range = range(50)\n",
        "\n",
        "train_loss = history2.history['loss']\n",
        "val_loss = history2.history['val_loss']\n",
        "train_acc = history2.history['accuracy']\n",
        "val_acc = history2.history['val_accuracy']\n",
        "    \n",
        "plt.figure(figsize=fig_size)\n",
        "plt.plot(epochs_range,train_loss,label=\"Training Loss\")\n",
        "plt.plot(epochs_range,val_loss,label=\"Validation Loss\")\n",
        "plt.xlabel(\"Epoch\")\n",
        "plt.ylabel(\"Loss\")\n",
        "plt.legend()\n",
        "plt.title(f\"Model {2} - Loss Over Time\")\n",
        "plt.show()\n",
        "\n",
        "plt.figure(figsize=fig_size)\n",
        "plt.plot(epochs_range,train_acc,label=\"Training accuracy\")\n",
        "plt.plot(epochs_range,val_acc,label=\"Validation accuracy\")\n",
        "plt.xlabel(\"Epoch\")\n",
        "plt.ylabel(\"accuracy\")\n",
        "plt.legend()\n",
        "plt.title(f\"Model {2} - Accuracy\")\n",
        "plt.show()"
      ],
      "execution_count": null,
      "outputs": [
        {
          "output_type": "display_data",
          "data": {
            "image/png": "[encoded data removed]",
            "text/plain": [
              "<Figure size 648x504 with 1 Axes>"
            ]
          },
          "metadata": {
            "needs_background": "light"
          }
        },
        {
          "output_type": "display_data",
          "data": {
            "image/png": "[encoded data removed]",
            "text/plain": [
              "<Figure size 648x504 with 1 Axes>"
            ]
          },
          "metadata": {
            "needs_background": "light"
          }
        }
      ]
    },
    {
      "cell_type": "code",
      "metadata": {
        "id": "6jqvxbqizr-B"
      },
      "source": [
        "# MODEL REPLICA NO.3\n",
        "X_train_3 = X_train[2000:3000] # [3676:5514]\n",
        "Y_train_3 = Y_train[2000:3000]"
      ],
      "execution_count": null,
      "outputs": []
    },
    {
      "cell_type": "code",
      "metadata": {
        "colab": {
          "base_uri": "https://localhost:8080/"
        },
        "id": "cjTLo0Upz2Yo",
        "outputId": "8df911b3-4148-468d-81ce-eabf88f5ad96"
      },
      "source": [
        "model_3 = Sequential()\n",
        "model_3.add(LSTM(48, input_shape=(timesteps, input_dim), return_sequences=True,bias_regularizer=reg ))\n",
        "model_3.add(BatchNormalization())\n",
        "model_3.add(Dropout(0.50))\n",
        "model_3.add(LSTM(32))\n",
        "model_3.add(Dropout(0.50))\n",
        "model_3.add(Dense(n_classes, activation='sigmoid'))\n",
        "print(\"Model Summary: \")\n",
        "model_3.summary()"
      ],
      "execution_count": null,
      "outputs": [
        {
          "output_type": "stream",
          "name": "stdout",
          "text": [
            "Model Summary: \n",
            "Model: \"sequential_3\"\n",
            "_________________________________________________________________\n",
            " Layer (type)                Output Shape              Param #   \n",
            "=================================================================\n",
            " lstm_6 (LSTM)               (None, 128, 48)           11136     \n",
            "                                                                 \n",
            " batch_normalization_3 (Batc  (None, 128, 48)          192       \n",
            " hNormalization)                                                 \n",
            "                                                                 \n",
            " dropout_6 (Dropout)         (None, 128, 48)           0         \n",
            "                                                                 \n",
            " lstm_7 (LSTM)               (None, 32)                10368     \n",
            "                                                                 \n",
            " dropout_7 (Dropout)         (None, 32)                0         \n",
            "                                                                 \n",
            " dense_3 (Dense)             (None, 6)                 198       \n",
            "                                                                 \n",
            "=================================================================\n",
            "Total params: 21,894\n",
            "Trainable params: 21,798\n",
            "Non-trainable params: 96\n",
            "_________________________________________________________________\n"
          ]
        }
      ]
    },
    {
      "cell_type": "code",
      "metadata": {
        "id": "ralPxAGpz2g9"
      },
      "source": [
        "model_3.compile(loss='categorical_crossentropy', optimizer='adam', metrics=['accuracy'])"
      ],
      "execution_count": null,
      "outputs": []
    },
    {
      "cell_type": "code",
      "metadata": {
        "colab": {
          "base_uri": "https://localhost:8080/"
        },
        "id": "FJ9xfP1cz2l9",
        "outputId": "091b7bf2-5931-44bc-d6d8-a0234f2f6900"
      },
      "source": [
        "# Training the model\n",
        "history3= model_3.fit(X_train_3, Y_train_3, batch_size=16, validation_data=(X_test, Y_test), epochs=50,\n",
        "                      callbacks=[\n",
        "      tf.keras.callbacks.ModelCheckpoint(f'./model_{3}.h5', save_best_only=True),\n",
        "      tf.keras.callbacks.ReduceLROnPlateau(\n",
        "          monitor='val_loss',\n",
        "          factor=0.1,\n",
        "          patience=1\n",
        "      )\n",
        "  ])"
      ],
      "execution_count": null,
      "outputs": [
        {
          "output_type": "stream",
          "name": "stdout",
          "text": [
            "Epoch 1/50\n",
            "63/63 [==============================] - 11s 122ms/step - loss: 2.3355 - accuracy: 0.4320 - val_loss: 2.3948 - val_accuracy: 0.4048 - lr: 0.0010\n",
            "Epoch 2/50\n",
            "63/63 [==============================] - 7s 106ms/step - loss: 1.8078 - accuracy: 0.6460 - val_loss: 2.2169 - val_accuracy: 0.4181 - lr: 0.0010\n",
            "Epoch 3/50\n",
            "63/63 [==============================] - 7s 105ms/step - loss: 1.5559 - accuracy: 0.7040 - val_loss: 2.2139 - val_accuracy: 0.4435 - lr: 0.0010\n",
            "Epoch 4/50\n",
            "63/63 [==============================] - 7s 105ms/step - loss: 1.4079 - accuracy: 0.7540 - val_loss: 2.2574 - val_accuracy: 0.4927 - lr: 0.0010\n",
            "Epoch 5/50\n",
            "63/63 [==============================] - 7s 105ms/step - loss: 1.2460 - accuracy: 0.8210 - val_loss: 2.0299 - val_accuracy: 0.4971 - lr: 1.0000e-04\n",
            "Epoch 6/50\n",
            "63/63 [==============================] - 7s 105ms/step - loss: 1.2264 - accuracy: 0.8090 - val_loss: 2.0698 - val_accuracy: 0.5124 - lr: 1.0000e-04\n",
            "Epoch 7/50\n",
            "63/63 [==============================] - 7s 106ms/step - loss: 1.2286 - accuracy: 0.8070 - val_loss: 2.0033 - val_accuracy: 0.5246 - lr: 1.0000e-05\n",
            "Epoch 8/50\n",
            "63/63 [==============================] - 7s 105ms/step - loss: 1.2059 - accuracy: 0.8030 - val_loss: 1.9464 - val_accuracy: 0.5446 - lr: 1.0000e-05\n",
            "Epoch 9/50\n",
            "63/63 [==============================] - 7s 106ms/step - loss: 1.1785 - accuracy: 0.8340 - val_loss: 1.9085 - val_accuracy: 0.5616 - lr: 1.0000e-05\n",
            "Epoch 10/50\n",
            "63/63 [==============================] - 8s 135ms/step - loss: 1.1904 - accuracy: 0.8240 - val_loss: 1.8948 - val_accuracy: 0.5691 - lr: 1.0000e-05\n",
            "Epoch 11/50\n",
            "63/63 [==============================] - 7s 106ms/step - loss: 1.2138 - accuracy: 0.8050 - val_loss: 1.8786 - val_accuracy: 0.5782 - lr: 1.0000e-05\n",
            "Epoch 12/50\n",
            "63/63 [==============================] - 7s 106ms/step - loss: 1.2077 - accuracy: 0.8060 - val_loss: 1.8686 - val_accuracy: 0.5799 - lr: 1.0000e-05\n",
            "Epoch 13/50\n",
            "63/63 [==============================] - 7s 105ms/step - loss: 1.1813 - accuracy: 0.8290 - val_loss: 1.8644 - val_accuracy: 0.5819 - lr: 1.0000e-05\n",
            "Epoch 14/50\n",
            "63/63 [==============================] - 7s 106ms/step - loss: 1.1792 - accuracy: 0.8310 - val_loss: 1.8586 - val_accuracy: 0.5847 - lr: 1.0000e-05\n",
            "Epoch 15/50\n",
            "63/63 [==============================] - 7s 104ms/step - loss: 1.2111 - accuracy: 0.8130 - val_loss: 1.8716 - val_accuracy: 0.5840 - lr: 1.0000e-05\n",
            "Epoch 16/50\n",
            "63/63 [==============================] - 7s 105ms/step - loss: 1.1781 - accuracy: 0.8400 - val_loss: 1.8680 - val_accuracy: 0.5847 - lr: 1.0000e-06\n",
            "Epoch 17/50\n",
            "63/63 [==============================] - 7s 105ms/step - loss: 1.2010 - accuracy: 0.8070 - val_loss: 1.8714 - val_accuracy: 0.5840 - lr: 1.0000e-07\n",
            "Epoch 18/50\n",
            "63/63 [==============================] - 7s 104ms/step - loss: 1.2042 - accuracy: 0.8200 - val_loss: 1.8706 - val_accuracy: 0.5843 - lr: 1.0000e-08\n",
            "Epoch 19/50\n",
            "63/63 [==============================] - 7s 105ms/step - loss: 1.2102 - accuracy: 0.8220 - val_loss: 1.8669 - val_accuracy: 0.5843 - lr: 1.0000e-09\n",
            "Epoch 20/50\n",
            "63/63 [==============================] - 7s 104ms/step - loss: 1.1907 - accuracy: 0.8220 - val_loss: 1.8681 - val_accuracy: 0.5850 - lr: 1.0000e-10\n",
            "Epoch 21/50\n",
            "63/63 [==============================] - 7s 105ms/step - loss: 1.2376 - accuracy: 0.8120 - val_loss: 1.8678 - val_accuracy: 0.5850 - lr: 1.0000e-11\n",
            "Epoch 22/50\n",
            "63/63 [==============================] - 7s 106ms/step - loss: 1.1947 - accuracy: 0.8350 - val_loss: 1.8665 - val_accuracy: 0.5840 - lr: 1.0000e-12\n",
            "Epoch 23/50\n",
            "63/63 [==============================] - 7s 106ms/step - loss: 1.2305 - accuracy: 0.8010 - val_loss: 1.8663 - val_accuracy: 0.5836 - lr: 1.0000e-13\n",
            "Epoch 24/50\n",
            "63/63 [==============================] - 7s 105ms/step - loss: 1.1954 - accuracy: 0.8200 - val_loss: 1.8668 - val_accuracy: 0.5843 - lr: 1.0000e-14\n",
            "Epoch 25/50\n",
            "63/63 [==============================] - 7s 105ms/step - loss: 1.1661 - accuracy: 0.8340 - val_loss: 1.8661 - val_accuracy: 0.5847 - lr: 1.0000e-15\n",
            "Epoch 26/50\n",
            "63/63 [==============================] - 7s 104ms/step - loss: 1.1685 - accuracy: 0.8420 - val_loss: 1.8663 - val_accuracy: 0.5836 - lr: 1.0000e-16\n",
            "Epoch 27/50\n",
            "63/63 [==============================] - 7s 105ms/step - loss: 1.1688 - accuracy: 0.8380 - val_loss: 1.8680 - val_accuracy: 0.5850 - lr: 1.0000e-17\n",
            "Epoch 28/50\n",
            "63/63 [==============================] - 7s 106ms/step - loss: 1.1987 - accuracy: 0.8200 - val_loss: 1.8695 - val_accuracy: 0.5843 - lr: 1.0000e-18\n",
            "Epoch 29/50\n",
            "63/63 [==============================] - 7s 106ms/step - loss: 1.1976 - accuracy: 0.8300 - val_loss: 1.8666 - val_accuracy: 0.5843 - lr: 1.0000e-19\n",
            "Epoch 30/50\n",
            "63/63 [==============================] - 7s 106ms/step - loss: 1.1787 - accuracy: 0.8310 - val_loss: 1.8675 - val_accuracy: 0.5843 - lr: 1.0000e-20\n",
            "Epoch 31/50\n",
            "63/63 [==============================] - 7s 105ms/step - loss: 1.1873 - accuracy: 0.8290 - val_loss: 1.8666 - val_accuracy: 0.5843 - lr: 1.0000e-21\n",
            "Epoch 32/50\n",
            "63/63 [==============================] - 7s 105ms/step - loss: 1.2034 - accuracy: 0.8190 - val_loss: 1.8648 - val_accuracy: 0.5840 - lr: 1.0000e-22\n",
            "Epoch 33/50\n",
            "63/63 [==============================] - 7s 105ms/step - loss: 1.2113 - accuracy: 0.8110 - val_loss: 1.8642 - val_accuracy: 0.5840 - lr: 1.0000e-23\n",
            "Epoch 34/50\n",
            "63/63 [==============================] - 7s 105ms/step - loss: 1.1862 - accuracy: 0.8350 - val_loss: 1.8660 - val_accuracy: 0.5843 - lr: 1.0000e-24\n",
            "Epoch 35/50\n",
            "63/63 [==============================] - 7s 105ms/step - loss: 1.2094 - accuracy: 0.8080 - val_loss: 1.8658 - val_accuracy: 0.5836 - lr: 1.0000e-25\n",
            "Epoch 36/50\n",
            "63/63 [==============================] - 7s 105ms/step - loss: 1.1935 - accuracy: 0.8270 - val_loss: 1.8660 - val_accuracy: 0.5836 - lr: 1.0000e-26\n",
            "Epoch 37/50\n",
            "63/63 [==============================] - 7s 106ms/step - loss: 1.1963 - accuracy: 0.8110 - val_loss: 1.8660 - val_accuracy: 0.5843 - lr: 1.0000e-27\n",
            "Epoch 38/50\n",
            "63/63 [==============================] - 7s 105ms/step - loss: 1.1953 - accuracy: 0.8190 - val_loss: 1.8655 - val_accuracy: 0.5847 - lr: 1.0000e-28\n",
            "Epoch 39/50\n",
            "63/63 [==============================] - 7s 106ms/step - loss: 1.1951 - accuracy: 0.8190 - val_loss: 1.8652 - val_accuracy: 0.5840 - lr: 1.0000e-29\n",
            "Epoch 40/50\n",
            "63/63 [==============================] - 7s 105ms/step - loss: 1.1865 - accuracy: 0.8240 - val_loss: 1.8659 - val_accuracy: 0.5843 - lr: 1.0000e-30\n",
            "Epoch 41/50\n",
            "63/63 [==============================] - 7s 105ms/step - loss: 1.1634 - accuracy: 0.8440 - val_loss: 1.8642 - val_accuracy: 0.5840 - lr: 1.0000e-31\n",
            "Epoch 42/50\n",
            "63/63 [==============================] - 7s 106ms/step - loss: 1.2095 - accuracy: 0.8140 - val_loss: 1.8656 - val_accuracy: 0.5850 - lr: 1.0000e-32\n",
            "Epoch 43/50\n",
            "63/63 [==============================] - 7s 106ms/step - loss: 1.2243 - accuracy: 0.7970 - val_loss: 1.8648 - val_accuracy: 0.5836 - lr: 1.0000e-33\n",
            "Epoch 44/50\n",
            "63/63 [==============================] - 7s 105ms/step - loss: 1.1780 - accuracy: 0.8290 - val_loss: 1.8662 - val_accuracy: 0.5843 - lr: 1.0000e-34\n",
            "Epoch 45/50\n",
            "63/63 [==============================] - 7s 106ms/step - loss: 1.2280 - accuracy: 0.7940 - val_loss: 1.8641 - val_accuracy: 0.5850 - lr: 1.0000e-35\n",
            "Epoch 46/50\n",
            "63/63 [==============================] - 7s 105ms/step - loss: 1.1985 - accuracy: 0.8190 - val_loss: 1.8629 - val_accuracy: 0.5853 - lr: 1.0000e-36\n",
            "Epoch 47/50\n",
            "63/63 [==============================] - 7s 105ms/step - loss: 1.1885 - accuracy: 0.8300 - val_loss: 1.8644 - val_accuracy: 0.5840 - lr: 1.0000e-37\n",
            "Epoch 48/50\n",
            "63/63 [==============================] - 7s 104ms/step - loss: 1.2201 - accuracy: 0.7990 - val_loss: 1.8652 - val_accuracy: 0.5840 - lr: 1.0000e-38\n",
            "Epoch 49/50\n",
            "63/63 [==============================] - 7s 105ms/step - loss: 1.2130 - accuracy: 0.8030 - val_loss: 1.8662 - val_accuracy: 0.5843 - lr: 1.0000e-39\n",
            "Epoch 50/50\n",
            "63/63 [==============================] - 7s 105ms/step - loss: 1.2208 - accuracy: 0.7980 - val_loss: 1.8662 - val_accuracy: 0.5840 - lr: 9.9999e-41\n"
          ]
        }
      ]
    },
    {
      "cell_type": "code",
      "metadata": {
        "colab": {
          "base_uri": "https://localhost:8080/",
          "height": 899
        },
        "id": "_YVMeRkO0IaM",
        "outputId": "1c90bf93-838c-4530-cc53-387bdcbeb995"
      },
      "source": [
        "epochs_range = range(50)\n",
        "\n",
        "train_loss = history3.history['loss']\n",
        "val_loss = history3.history['val_loss']\n",
        "train_acc = history3.history['accuracy']\n",
        "val_acc = history3.history['val_accuracy']\n",
        "    \n",
        "plt.figure(figsize=fig_size)\n",
        "plt.plot(epochs_range,train_loss,label=\"Training Loss\")\n",
        "plt.plot(epochs_range,val_loss,label=\"Validation Loss\")\n",
        "plt.xlabel(\"Epoch\")\n",
        "plt.ylabel(\"Loss\")\n",
        "plt.legend()\n",
        "plt.title(f\"Model {3} - Loss Over Time\")\n",
        "plt.show()\n",
        "\n",
        "plt.figure(figsize=fig_size)\n",
        "plt.plot(epochs_range,train_acc,label=\"Training accuracy\")\n",
        "plt.plot(epochs_range,val_acc,label=\"Validation accuracy\")\n",
        "plt.xlabel(\"Epoch\")\n",
        "plt.ylabel(\"accuracy\")\n",
        "plt.legend()\n",
        "plt.title(f\"Model {3} - Accuracy\")\n",
        "plt.show()"
      ],
      "execution_count": null,
      "outputs": [
        {
          "output_type": "display_data",
          "data": {
            "image/png": "[encoded data removed]",
            "text/plain": [
              "<Figure size 648x504 with 1 Axes>"
            ]
          },
          "metadata": {
            "needs_background": "light"
          }
        },
        {
          "output_type": "display_data",
          "data": {
            "image/png": "[encoded data removed]",
            "text/plain": [
              "<Figure size 648x504 with 1 Axes>"
            ]
          },
          "metadata": {
            "needs_background": "light"
          }
        }
      ]
    },
    {
      "cell_type": "code",
      "metadata": {
        "id": "-5EbBQ1X2sgt"
      },
      "source": [
        "# MODEL REPLICA NO.4\n",
        "X_train_4 = X_train[3000:4000] # 5514:\n",
        "Y_train_4 = Y_train[3000:4000]"
      ],
      "execution_count": null,
      "outputs": []
    },
    {
      "cell_type": "code",
      "metadata": {
        "colab": {
          "base_uri": "https://localhost:8080/"
        },
        "id": "wuWJ6Hny2zxS",
        "outputId": "58238b38-09c5-4e35-d754-e3485b0e29f9"
      },
      "source": [
        "model_4 = Sequential()\n",
        "model_4.add(LSTM(48, input_shape=(timesteps, input_dim), return_sequences=True,bias_regularizer=reg ))\n",
        "model_4.add(BatchNormalization())\n",
        "model_4.add(Dropout(0.50))\n",
        "model_4.add(LSTM(32))\n",
        "model_4.add(Dropout(0.50))\n",
        "model_4.add(Dense(n_classes, activation='sigmoid'))\n",
        "print(\"Model Summary: \")\n",
        "model_4.summary()"
      ],
      "execution_count": null,
      "outputs": [
        {
          "output_type": "stream",
          "name": "stdout",
          "text": [
            "Model Summary: \n",
            "Model: \"sequential_4\"\n",
            "_________________________________________________________________\n",
            " Layer (type)                Output Shape              Param #   \n",
            "=================================================================\n",
            " lstm_8 (LSTM)               (None, 128, 48)           11136     \n",
            "                                                                 \n",
            " batch_normalization_4 (Batc  (None, 128, 48)          192       \n",
            " hNormalization)                                                 \n",
            "                                                                 \n",
            " dropout_8 (Dropout)         (None, 128, 48)           0         \n",
            "                                                                 \n",
            " lstm_9 (LSTM)               (None, 32)                10368     \n",
            "                                                                 \n",
            " dropout_9 (Dropout)         (None, 32)                0         \n",
            "                                                                 \n",
            " dense_4 (Dense)             (None, 6)                 198       \n",
            "                                                                 \n",
            "=================================================================\n",
            "Total params: 21,894\n",
            "Trainable params: 21,798\n",
            "Non-trainable params: 96\n",
            "_________________________________________________________________\n"
          ]
        }
      ]
    },
    {
      "cell_type": "code",
      "metadata": {
        "id": "7fsGKJgE2z2Z"
      },
      "source": [
        "model_4.compile(loss='categorical_crossentropy', optimizer='adam', metrics=['accuracy'])"
      ],
      "execution_count": null,
      "outputs": []
    },
    {
      "cell_type": "code",
      "metadata": {
        "colab": {
          "base_uri": "https://localhost:8080/"
        },
        "id": "Dgq8RIY42z6H",
        "outputId": "c1217a35-092b-4e5f-8ddf-e08692b20d72"
      },
      "source": [
        "# Training the model\n",
        "history4= model_4.fit(X_train_4, Y_train_4, batch_size=16, validation_data=(X_test, Y_test), epochs=50,\n",
        "                      callbacks=[\n",
        "      tf.keras.callbacks.ModelCheckpoint(f'./model_{4}.h5', save_best_only=True),\n",
        "      tf.keras.callbacks.ReduceLROnPlateau(\n",
        "          monitor='val_loss',\n",
        "          factor=0.1,\n",
        "          patience=1\n",
        "      )\n",
        "  ])"
      ],
      "execution_count": null,
      "outputs": [
        {
          "output_type": "stream",
          "name": "stdout",
          "text": [
            "Epoch 1/50\n",
            "63/63 [==============================] - 11s 120ms/step - loss: 2.3044 - accuracy: 0.4840 - val_loss: 2.5231 - val_accuracy: 0.3553 - lr: 0.0010\n",
            "Epoch 2/50\n",
            "63/63 [==============================] - 7s 105ms/step - loss: 1.8211 - accuracy: 0.6140 - val_loss: 2.5528 - val_accuracy: 0.3590 - lr: 0.0010\n",
            "Epoch 3/50\n",
            "63/63 [==============================] - 7s 105ms/step - loss: 1.6327 - accuracy: 0.6690 - val_loss: 2.3751 - val_accuracy: 0.4479 - lr: 1.0000e-04\n",
            "Epoch 4/50\n",
            "63/63 [==============================] - 7s 105ms/step - loss: 1.6239 - accuracy: 0.6540 - val_loss: 2.2490 - val_accuracy: 0.4849 - lr: 1.0000e-04\n",
            "Epoch 5/50\n",
            "63/63 [==============================] - 7s 105ms/step - loss: 1.5644 - accuracy: 0.7030 - val_loss: 2.1178 - val_accuracy: 0.5188 - lr: 1.0000e-04\n",
            "Epoch 6/50\n",
            "63/63 [==============================] - 7s 106ms/step - loss: 1.5564 - accuracy: 0.6890 - val_loss: 2.0184 - val_accuracy: 0.5324 - lr: 1.0000e-04\n",
            "Epoch 7/50\n",
            "63/63 [==============================] - 7s 105ms/step - loss: 1.5476 - accuracy: 0.6900 - val_loss: 1.7546 - val_accuracy: 0.6037 - lr: 1.0000e-04\n",
            "Epoch 8/50\n",
            "63/63 [==============================] - 7s 106ms/step - loss: 1.4888 - accuracy: 0.7050 - val_loss: 1.7004 - val_accuracy: 0.6237 - lr: 1.0000e-04\n",
            "Epoch 9/50\n",
            "63/63 [==============================] - 7s 105ms/step - loss: 1.4732 - accuracy: 0.7210 - val_loss: 1.6944 - val_accuracy: 0.6220 - lr: 1.0000e-04\n",
            "Epoch 10/50\n",
            "63/63 [==============================] - 7s 106ms/step - loss: 1.4606 - accuracy: 0.7350 - val_loss: 1.6777 - val_accuracy: 0.6359 - lr: 1.0000e-04\n",
            "Epoch 11/50\n",
            "63/63 [==============================] - 7s 105ms/step - loss: 1.4510 - accuracy: 0.7430 - val_loss: 1.6237 - val_accuracy: 0.6349 - lr: 1.0000e-04\n",
            "Epoch 12/50\n",
            "63/63 [==============================] - 7s 105ms/step - loss: 1.4312 - accuracy: 0.7320 - val_loss: 1.6676 - val_accuracy: 0.6301 - lr: 1.0000e-04\n",
            "Epoch 13/50\n",
            "63/63 [==============================] - 7s 105ms/step - loss: 1.4198 - accuracy: 0.7230 - val_loss: 1.6361 - val_accuracy: 0.6386 - lr: 1.0000e-05\n",
            "Epoch 14/50\n",
            "63/63 [==============================] - 7s 106ms/step - loss: 1.4161 - accuracy: 0.7330 - val_loss: 1.6222 - val_accuracy: 0.6383 - lr: 1.0000e-06\n",
            "Epoch 15/50\n",
            "63/63 [==============================] - 7s 106ms/step - loss: 1.4259 - accuracy: 0.7210 - val_loss: 1.6150 - val_accuracy: 0.6403 - lr: 1.0000e-06\n",
            "Epoch 16/50\n",
            "63/63 [==============================] - 7s 105ms/step - loss: 1.4163 - accuracy: 0.7330 - val_loss: 1.6131 - val_accuracy: 0.6407 - lr: 1.0000e-06\n",
            "Epoch 17/50\n",
            "63/63 [==============================] - 7s 106ms/step - loss: 1.4227 - accuracy: 0.7290 - val_loss: 1.6090 - val_accuracy: 0.6403 - lr: 1.0000e-06\n",
            "Epoch 18/50\n",
            "63/63 [==============================] - 7s 106ms/step - loss: 1.4201 - accuracy: 0.7180 - val_loss: 1.6070 - val_accuracy: 0.6413 - lr: 1.0000e-06\n",
            "Epoch 19/50\n",
            "63/63 [==============================] - 7s 106ms/step - loss: 1.4399 - accuracy: 0.7260 - val_loss: 1.6088 - val_accuracy: 0.6400 - lr: 1.0000e-06\n",
            "Epoch 20/50\n",
            "63/63 [==============================] - 7s 105ms/step - loss: 1.4353 - accuracy: 0.7150 - val_loss: 1.6086 - val_accuracy: 0.6407 - lr: 1.0000e-07\n",
            "Epoch 21/50\n",
            "63/63 [==============================] - 7s 105ms/step - loss: 1.4110 - accuracy: 0.7450 - val_loss: 1.6082 - val_accuracy: 0.6400 - lr: 1.0000e-08\n",
            "Epoch 22/50\n",
            "63/63 [==============================] - 7s 105ms/step - loss: 1.4333 - accuracy: 0.7240 - val_loss: 1.6071 - val_accuracy: 0.6407 - lr: 1.0000e-09\n",
            "Epoch 23/50\n",
            "63/63 [==============================] - 7s 105ms/step - loss: 1.4363 - accuracy: 0.7140 - val_loss: 1.6078 - val_accuracy: 0.6410 - lr: 1.0000e-10\n",
            "Epoch 24/50\n",
            "63/63 [==============================] - 7s 105ms/step - loss: 1.4225 - accuracy: 0.7330 - val_loss: 1.6077 - val_accuracy: 0.6407 - lr: 1.0000e-11\n",
            "Epoch 25/50\n",
            "63/63 [==============================] - 7s 106ms/step - loss: 1.4363 - accuracy: 0.7340 - val_loss: 1.6089 - val_accuracy: 0.6403 - lr: 1.0000e-12\n",
            "Epoch 26/50\n",
            "63/63 [==============================] - 7s 105ms/step - loss: 1.4268 - accuracy: 0.7310 - val_loss: 1.6084 - val_accuracy: 0.6407 - lr: 1.0000e-13\n",
            "Epoch 27/50\n",
            "63/63 [==============================] - 7s 106ms/step - loss: 1.4218 - accuracy: 0.7140 - val_loss: 1.6057 - val_accuracy: 0.6413 - lr: 1.0000e-14\n",
            "Epoch 28/50\n",
            "63/63 [==============================] - 7s 106ms/step - loss: 1.4279 - accuracy: 0.7200 - val_loss: 1.6035 - val_accuracy: 0.6427 - lr: 1.0000e-14\n",
            "Epoch 29/50\n",
            "63/63 [==============================] - 7s 105ms/step - loss: 1.4246 - accuracy: 0.7230 - val_loss: 1.6066 - val_accuracy: 0.6413 - lr: 1.0000e-14\n",
            "Epoch 30/50\n",
            "63/63 [==============================] - 7s 104ms/step - loss: 1.4260 - accuracy: 0.7350 - val_loss: 1.6052 - val_accuracy: 0.6417 - lr: 1.0000e-15\n",
            "Epoch 31/50\n",
            "63/63 [==============================] - 7s 106ms/step - loss: 1.4235 - accuracy: 0.7370 - val_loss: 1.6071 - val_accuracy: 0.6413 - lr: 1.0000e-16\n",
            "Epoch 32/50\n",
            "63/63 [==============================] - 7s 105ms/step - loss: 1.4443 - accuracy: 0.7290 - val_loss: 1.6066 - val_accuracy: 0.6413 - lr: 1.0000e-17\n",
            "Epoch 33/50\n",
            "63/63 [==============================] - 7s 104ms/step - loss: 1.4252 - accuracy: 0.7250 - val_loss: 1.6086 - val_accuracy: 0.6410 - lr: 1.0000e-18\n",
            "Epoch 34/50\n",
            "63/63 [==============================] - 7s 105ms/step - loss: 1.4381 - accuracy: 0.7280 - val_loss: 1.6068 - val_accuracy: 0.6403 - lr: 1.0000e-19\n",
            "Epoch 35/50\n",
            "63/63 [==============================] - 7s 105ms/step - loss: 1.4098 - accuracy: 0.7260 - val_loss: 1.6067 - val_accuracy: 0.6413 - lr: 1.0000e-20\n",
            "Epoch 36/50\n",
            "63/63 [==============================] - 7s 106ms/step - loss: 1.4185 - accuracy: 0.7360 - val_loss: 1.6061 - val_accuracy: 0.6413 - lr: 1.0000e-21\n",
            "Epoch 37/50\n",
            "63/63 [==============================] - 7s 106ms/step - loss: 1.4245 - accuracy: 0.7310 - val_loss: 1.6069 - val_accuracy: 0.6413 - lr: 1.0000e-22\n",
            "Epoch 38/50\n",
            "63/63 [==============================] - 7s 106ms/step - loss: 1.4092 - accuracy: 0.7360 - val_loss: 1.6070 - val_accuracy: 0.6407 - lr: 1.0000e-23\n",
            "Epoch 39/50\n",
            "63/63 [==============================] - 7s 105ms/step - loss: 1.4167 - accuracy: 0.7260 - val_loss: 1.6103 - val_accuracy: 0.6407 - lr: 1.0000e-24\n",
            "Epoch 40/50\n",
            "63/63 [==============================] - 7s 106ms/step - loss: 1.4017 - accuracy: 0.7340 - val_loss: 1.6090 - val_accuracy: 0.6407 - lr: 1.0000e-25\n",
            "Epoch 41/50\n",
            "63/63 [==============================] - 7s 106ms/step - loss: 1.4433 - accuracy: 0.7180 - val_loss: 1.6092 - val_accuracy: 0.6407 - lr: 1.0000e-26\n",
            "Epoch 42/50\n",
            "63/63 [==============================] - 8s 135ms/step - loss: 1.3977 - accuracy: 0.7270 - val_loss: 1.6102 - val_accuracy: 0.6400 - lr: 1.0000e-27\n",
            "Epoch 43/50\n",
            "63/63 [==============================] - 7s 105ms/step - loss: 1.4171 - accuracy: 0.7510 - val_loss: 1.6101 - val_accuracy: 0.6396 - lr: 1.0000e-28\n",
            "Epoch 44/50\n",
            "63/63 [==============================] - 7s 106ms/step - loss: 1.4457 - accuracy: 0.7150 - val_loss: 1.6097 - val_accuracy: 0.6390 - lr: 1.0000e-29\n",
            "Epoch 45/50\n",
            "63/63 [==============================] - 7s 105ms/step - loss: 1.4303 - accuracy: 0.7100 - val_loss: 1.6112 - val_accuracy: 0.6396 - lr: 1.0000e-30\n",
            "Epoch 46/50\n",
            "63/63 [==============================] - 7s 105ms/step - loss: 1.4038 - accuracy: 0.7400 - val_loss: 1.6116 - val_accuracy: 0.6396 - lr: 1.0000e-31\n",
            "Epoch 47/50\n",
            "63/63 [==============================] - 7s 104ms/step - loss: 1.4372 - accuracy: 0.7100 - val_loss: 1.6099 - val_accuracy: 0.6407 - lr: 1.0000e-32\n",
            "Epoch 48/50\n",
            "63/63 [==============================] - 7s 105ms/step - loss: 1.4269 - accuracy: 0.7310 - val_loss: 1.6103 - val_accuracy: 0.6403 - lr: 1.0000e-33\n",
            "Epoch 49/50\n",
            "63/63 [==============================] - 7s 105ms/step - loss: 1.4220 - accuracy: 0.7190 - val_loss: 1.6096 - val_accuracy: 0.6407 - lr: 1.0000e-34\n",
            "Epoch 50/50\n",
            "63/63 [==============================] - 7s 105ms/step - loss: 1.4146 - accuracy: 0.7220 - val_loss: 1.6084 - val_accuracy: 0.6407 - lr: 1.0000e-35\n"
          ]
        }
      ]
    },
    {
      "cell_type": "code",
      "metadata": {
        "colab": {
          "base_uri": "https://localhost:8080/",
          "height": 899
        },
        "id": "ehVBUVmx3Cyk",
        "outputId": "89bb2754-4a81-41c3-ba14-a956a51c5a89"
      },
      "source": [
        "epochs_range = range(50)\n",
        "\n",
        "train_loss = history4.history['loss']\n",
        "val_loss = history4.history['val_loss']\n",
        "train_acc = history4.history['accuracy']\n",
        "val_acc = history4.history['val_accuracy']\n",
        "    \n",
        "plt.figure(figsize=fig_size)\n",
        "plt.plot(epochs_range,train_loss,label=\"Training Loss\")\n",
        "plt.plot(epochs_range,val_loss,label=\"Validation Loss\")\n",
        "plt.xlabel(\"Epoch\")\n",
        "plt.ylabel(\"Loss\")\n",
        "plt.legend()\n",
        "plt.title(f\"Model {4} - Loss Over Time\")\n",
        "plt.show()\n",
        "\n",
        "plt.figure(figsize=fig_size)\n",
        "plt.plot(epochs_range,train_acc,label=\"Training accuracy\")\n",
        "plt.plot(epochs_range,val_acc,label=\"Validation accuracy\")\n",
        "plt.xlabel(\"Epoch\")\n",
        "plt.ylabel(\"accuracy\")\n",
        "plt.legend()\n",
        "plt.title(f\"Model {4} - Accuracy\")\n",
        "plt.show()"
      ],
      "execution_count": null,
      "outputs": [
        {
          "output_type": "display_data",
          "data": {
            "image/png": "[encoded data removed]",
            "text/plain": [
              "<Figure size 648x504 with 1 Axes>"
            ]
          },
          "metadata": {
            "needs_background": "light"
          }
        },
        {
          "output_type": "display_data",
          "data": {
            "image/png": "[encoded data removed]",
            "text/plain": [
              "<Figure size 648x504 with 1 Axes>"
            ]
          },
          "metadata": {
            "needs_background": "light"
          }
        }
      ]
    },
    {
      "cell_type": "markdown",
      "metadata": {
        "id": "-bPj69FVIOoc"
      },
      "source": [
        "# The Global model"
      ]
    },
    {
      "cell_type": "code",
      "metadata": {
        "colab": {
          "base_uri": "https://localhost:8080/"
        },
        "id": "dk85u3VDITjU",
        "outputId": "aa475cea-3b8b-420f-b061-d0efb7409d1e"
      },
      "source": [
        "model_g = Sequential()\n",
        "model_g.add(LSTM(48, input_shape=(timesteps, input_dim), return_sequences=True,bias_regularizer=reg ))\n",
        "model_g.add(BatchNormalization())\n",
        "model_g.add(Dropout(0.50))\n",
        "model_g.add(LSTM(32))\n",
        "model_g.add(Dropout(0.50))\n",
        "model_g.add(Dense(n_classes, activation='sigmoid'))\n",
        "print(\"Model Summary: \")\n",
        "model_g.summary()"
      ],
      "execution_count": null,
      "outputs": [
        {
          "output_type": "stream",
          "name": "stdout",
          "text": [
            "Model Summary: \n",
            "Model: \"sequential_5\"\n",
            "_________________________________________________________________\n",
            " Layer (type)                Output Shape              Param #   \n",
            "=================================================================\n",
            " lstm_10 (LSTM)              (None, 128, 48)           11136     \n",
            "                                                                 \n",
            " batch_normalization_5 (Batc  (None, 128, 48)          192       \n",
            " hNormalization)                                                 \n",
            "                                                                 \n",
            " dropout_10 (Dropout)        (None, 128, 48)           0         \n",
            "                                                                 \n",
            " lstm_11 (LSTM)              (None, 32)                10368     \n",
            "                                                                 \n",
            " dropout_11 (Dropout)        (None, 32)                0         \n",
            "                                                                 \n",
            " dense_5 (Dense)             (None, 6)                 198       \n",
            "                                                                 \n",
            "=================================================================\n",
            "Total params: 21,894\n",
            "Trainable params: 21,798\n",
            "Non-trainable params: 96\n",
            "_________________________________________________________________\n"
          ]
        }
      ]
    },
    {
      "cell_type": "code",
      "metadata": {
        "id": "rQywV9nmISQq"
      },
      "source": [
        "\n",
        "def LOAD_MODELS():\n",
        "    for i in range(1,5):\n",
        "        model = load_model(f'./model_{i}.h5')\n",
        "        all_models.append(model)\n"
      ],
      "execution_count": null,
      "outputs": []
    },
    {
      "cell_type": "code",
      "metadata": {
        "id": "FkSOtASIMcOA"
      },
      "source": [
        "all_models = []\n",
        "LOAD_MODELS()"
      ],
      "execution_count": null,
      "outputs": []
    },
    {
      "cell_type": "code",
      "metadata": {
        "id": "0MTd4TmJK5Wc"
      },
      "source": [
        "\n",
        "weights = [max(history1.history['accuracy']), max(history2.history['accuracy']),max(history3.history['accuracy']),max(history4.history['accuracy'])]\n",
        "x = max(weights) # 제일 큰 웨이트값 \n",
        "idx = weights.index(x) # 제일 큰 웨이트값의 모델의 index\n",
        "weights[idx] = 1\n",
        "x = min(weights)\n",
        "idx = weights.index(x)\n",
        "weights[idx] = 0.02\n",
        "for i in range(4):\n",
        "    if(weights[i] != 1 and weights[i] != 0.02):\n",
        "        weights[i] = 0.03\n",
        "        break\n",
        "avg_model_weights = APPLY_WEIGHT_FUNCTION(weights)"
      ],
      "execution_count": null,
      "outputs": []
    },
    {
      "cell_type": "code",
      "metadata": {
        "id": "b1fuUgqLLZQK"
      },
      "source": [
        "X_train_g = X_train[4000:]\n",
        "Y_train_g = Y_train[4000:]"
      ],
      "execution_count": null,
      "outputs": []
    },
    {
      "cell_type": "code",
      "metadata": {
        "colab": {
          "base_uri": "https://localhost:8080/"
        },
        "id": "NOi_Ok3vANnh",
        "outputId": "5ff3ee5e-d5c8-4f21-c534-1869d8e5b7b6"
      },
      "source": [
        "model_g.set_weights(avg_model_weights)\n",
        "model_g.compile(loss='categorical_crossentropy', optimizer='adam', metrics=['accuracy'])\n",
        "history_g= model_g.fit(X_train_g, Y_train_g, batch_size=16, validation_data=(X_test, Y_test), epochs=50,\n",
        "                      callbacks=[\n",
        "      tf.keras.callbacks.ModelCheckpoint(f'./model_g.h5', save_best_only=True),\n",
        "      tf.keras.callbacks.ReduceLROnPlateau(\n",
        "          monitor='val_loss',\n",
        "          factor=0.1,\n",
        "          patience=1\n",
        "      )\n",
        "  ])\n"
      ],
      "execution_count": null,
      "outputs": [
        {
          "output_type": "stream",
          "name": "stdout",
          "text": [
            "Epoch 1/50\n",
            "210/210 [==============================] - 19s 74ms/step - loss: 1.3663 - accuracy: 0.6894 - val_loss: 1.2169 - val_accuracy: 0.7136 - lr: 0.0010\n",
            "Epoch 2/50\n",
            "210/210 [==============================] - 14s 67ms/step - loss: 0.8565 - accuracy: 0.8320 - val_loss: 0.8347 - val_accuracy: 0.8059 - lr: 0.0010\n",
            "Epoch 3/50\n",
            "210/210 [==============================] - 14s 67ms/step - loss: 0.5462 - accuracy: 0.9060 - val_loss: 0.5752 - val_accuracy: 0.8453 - lr: 0.0010\n",
            "Epoch 4/50\n",
            "210/210 [==============================] - 14s 67ms/step - loss: 0.3375 - accuracy: 0.9397 - val_loss: 0.5889 - val_accuracy: 0.8354 - lr: 0.0010\n",
            "Epoch 5/50\n",
            "210/210 [==============================] - 14s 67ms/step - loss: 0.2613 - accuracy: 0.9469 - val_loss: 0.4751 - val_accuracy: 0.8731 - lr: 1.0000e-04\n",
            "Epoch 6/50\n",
            "210/210 [==============================] - 14s 67ms/step - loss: 0.2545 - accuracy: 0.9397 - val_loss: 0.4556 - val_accuracy: 0.8734 - lr: 1.0000e-04\n",
            "Epoch 7/50\n",
            "210/210 [==============================] - 14s 67ms/step - loss: 0.2293 - accuracy: 0.9475 - val_loss: 0.4678 - val_accuracy: 0.8724 - lr: 1.0000e-04\n",
            "Epoch 8/50\n",
            "210/210 [==============================] - 14s 67ms/step - loss: 0.2338 - accuracy: 0.9469 - val_loss: 0.4591 - val_accuracy: 0.8744 - lr: 1.0000e-05\n",
            "Epoch 9/50\n",
            "210/210 [==============================] - 14s 67ms/step - loss: 0.2212 - accuracy: 0.9520 - val_loss: 0.4587 - val_accuracy: 0.8758 - lr: 1.0000e-06\n",
            "Epoch 10/50\n",
            "210/210 [==============================] - 14s 68ms/step - loss: 0.2244 - accuracy: 0.9439 - val_loss: 0.4601 - val_accuracy: 0.8758 - lr: 1.0000e-07\n",
            "Epoch 11/50\n",
            "210/210 [==============================] - 14s 67ms/step - loss: 0.2297 - accuracy: 0.9448 - val_loss: 0.4589 - val_accuracy: 0.8772 - lr: 1.0000e-08\n",
            "Epoch 12/50\n",
            "210/210 [==============================] - 14s 67ms/step - loss: 0.2361 - accuracy: 0.9415 - val_loss: 0.4599 - val_accuracy: 0.8738 - lr: 1.0000e-09\n",
            "Epoch 13/50\n",
            "210/210 [==============================] - 14s 67ms/step - loss: 0.2212 - accuracy: 0.9478 - val_loss: 0.4582 - val_accuracy: 0.8751 - lr: 1.0000e-10\n",
            "Epoch 14/50\n",
            "210/210 [==============================] - 14s 67ms/step - loss: 0.2229 - accuracy: 0.9439 - val_loss: 0.4564 - val_accuracy: 0.8748 - lr: 1.0000e-11\n",
            "Epoch 15/50\n",
            "210/210 [==============================] - 14s 67ms/step - loss: 0.2184 - accuracy: 0.9460 - val_loss: 0.4559 - val_accuracy: 0.8768 - lr: 1.0000e-12\n",
            "Epoch 16/50\n",
            "210/210 [==============================] - 14s 67ms/step - loss: 0.2285 - accuracy: 0.9421 - val_loss: 0.4573 - val_accuracy: 0.8744 - lr: 1.0000e-13\n",
            "Epoch 17/50\n",
            "210/210 [==============================] - 14s 67ms/step - loss: 0.2246 - accuracy: 0.9400 - val_loss: 0.4605 - val_accuracy: 0.8755 - lr: 1.0000e-14\n",
            "Epoch 18/50\n",
            "210/210 [==============================] - 14s 68ms/step - loss: 0.2238 - accuracy: 0.9466 - val_loss: 0.4581 - val_accuracy: 0.8761 - lr: 1.0000e-15\n",
            "Epoch 19/50\n",
            "210/210 [==============================] - 14s 67ms/step - loss: 0.2250 - accuracy: 0.9439 - val_loss: 0.4560 - val_accuracy: 0.8761 - lr: 1.0000e-16\n",
            "Epoch 20/50\n",
            "210/210 [==============================] - 14s 67ms/step - loss: 0.2259 - accuracy: 0.9439 - val_loss: 0.4590 - val_accuracy: 0.8768 - lr: 1.0000e-17\n",
            "Epoch 21/50\n",
            "210/210 [==============================] - 14s 67ms/step - loss: 0.2246 - accuracy: 0.9436 - val_loss: 0.4621 - val_accuracy: 0.8748 - lr: 1.0000e-18\n",
            "Epoch 22/50\n",
            "210/210 [==============================] - 14s 67ms/step - loss: 0.2305 - accuracy: 0.9430 - val_loss: 0.4564 - val_accuracy: 0.8761 - lr: 1.0000e-19\n",
            "Epoch 23/50\n",
            "210/210 [==============================] - 14s 67ms/step - loss: 0.2277 - accuracy: 0.9451 - val_loss: 0.4586 - val_accuracy: 0.8758 - lr: 1.0000e-20\n",
            "Epoch 24/50\n",
            "210/210 [==============================] - 14s 67ms/step - loss: 0.2236 - accuracy: 0.9460 - val_loss: 0.4610 - val_accuracy: 0.8748 - lr: 1.0000e-21\n",
            "Epoch 25/50\n",
            "210/210 [==============================] - 14s 67ms/step - loss: 0.2206 - accuracy: 0.9466 - val_loss: 0.4556 - val_accuracy: 0.8768 - lr: 1.0000e-22\n",
            "Epoch 26/50\n",
            "210/210 [==============================] - 14s 67ms/step - loss: 0.2383 - accuracy: 0.9385 - val_loss: 0.4595 - val_accuracy: 0.8765 - lr: 1.0000e-23\n",
            "Epoch 27/50\n",
            "210/210 [==============================] - 14s 67ms/step - loss: 0.2312 - accuracy: 0.9433 - val_loss: 0.4594 - val_accuracy: 0.8758 - lr: 1.0000e-24\n",
            "Epoch 28/50\n",
            "210/210 [==============================] - 14s 67ms/step - loss: 0.2405 - accuracy: 0.9409 - val_loss: 0.4555 - val_accuracy: 0.8765 - lr: 1.0000e-25\n",
            "Epoch 29/50\n",
            "210/210 [==============================] - 14s 67ms/step - loss: 0.2344 - accuracy: 0.9427 - val_loss: 0.4566 - val_accuracy: 0.8741 - lr: 1.0000e-25\n",
            "Epoch 30/50\n",
            "210/210 [==============================] - 14s 67ms/step - loss: 0.2204 - accuracy: 0.9469 - val_loss: 0.4601 - val_accuracy: 0.8751 - lr: 1.0000e-26\n",
            "Epoch 31/50\n",
            "210/210 [==============================] - 14s 67ms/step - loss: 0.2249 - accuracy: 0.9454 - val_loss: 0.4547 - val_accuracy: 0.8768 - lr: 1.0000e-27\n",
            "Epoch 32/50\n",
            "210/210 [==============================] - 14s 67ms/step - loss: 0.2249 - accuracy: 0.9460 - val_loss: 0.4572 - val_accuracy: 0.8765 - lr: 1.0000e-27\n",
            "Epoch 33/50\n",
            "210/210 [==============================] - 14s 67ms/step - loss: 0.2287 - accuracy: 0.9436 - val_loss: 0.4600 - val_accuracy: 0.8748 - lr: 1.0000e-28\n",
            "Epoch 34/50\n",
            "210/210 [==============================] - 14s 67ms/step - loss: 0.2250 - accuracy: 0.9433 - val_loss: 0.4581 - val_accuracy: 0.8761 - lr: 1.0000e-29\n",
            "Epoch 35/50\n",
            "210/210 [==============================] - 14s 67ms/step - loss: 0.2218 - accuracy: 0.9478 - val_loss: 0.4591 - val_accuracy: 0.8758 - lr: 1.0000e-30\n",
            "Epoch 36/50\n",
            "210/210 [==============================] - 14s 67ms/step - loss: 0.2259 - accuracy: 0.9457 - val_loss: 0.4600 - val_accuracy: 0.8751 - lr: 1.0000e-31\n",
            "Epoch 37/50\n",
            "210/210 [==============================] - 14s 67ms/step - loss: 0.2262 - accuracy: 0.9451 - val_loss: 0.4554 - val_accuracy: 0.8755 - lr: 1.0000e-32\n",
            "Epoch 38/50\n",
            "210/210 [==============================] - 14s 67ms/step - loss: 0.2168 - accuracy: 0.9502 - val_loss: 0.4584 - val_accuracy: 0.8741 - lr: 1.0000e-33\n",
            "Epoch 39/50\n",
            "210/210 [==============================] - 14s 67ms/step - loss: 0.2349 - accuracy: 0.9394 - val_loss: 0.4588 - val_accuracy: 0.8758 - lr: 1.0000e-34\n",
            "Epoch 40/50\n",
            "210/210 [==============================] - 14s 67ms/step - loss: 0.2201 - accuracy: 0.9490 - val_loss: 0.4588 - val_accuracy: 0.8758 - lr: 1.0000e-35\n",
            "Epoch 41/50\n",
            "210/210 [==============================] - 14s 67ms/step - loss: 0.2252 - accuracy: 0.9436 - val_loss: 0.4533 - val_accuracy: 0.8755 - lr: 1.0000e-36\n",
            "Epoch 42/50\n",
            "210/210 [==============================] - 14s 67ms/step - loss: 0.2199 - accuracy: 0.9475 - val_loss: 0.4581 - val_accuracy: 0.8751 - lr: 1.0000e-36\n",
            "Epoch 43/50\n",
            "210/210 [==============================] - 14s 67ms/step - loss: 0.2339 - accuracy: 0.9424 - val_loss: 0.4611 - val_accuracy: 0.8738 - lr: 1.0000e-37\n",
            "Epoch 44/50\n",
            "210/210 [==============================] - 14s 67ms/step - loss: 0.2264 - accuracy: 0.9451 - val_loss: 0.4546 - val_accuracy: 0.8755 - lr: 1.0000e-38\n",
            "Epoch 45/50\n",
            "210/210 [==============================] - 14s 67ms/step - loss: 0.2272 - accuracy: 0.9472 - val_loss: 0.4590 - val_accuracy: 0.8768 - lr: 1.0000e-39\n",
            "Epoch 46/50\n",
            "210/210 [==============================] - 14s 67ms/step - loss: 0.2179 - accuracy: 0.9484 - val_loss: 0.4575 - val_accuracy: 0.8772 - lr: 9.9999e-41\n",
            "Epoch 47/50\n",
            "210/210 [==============================] - 14s 67ms/step - loss: 0.2235 - accuracy: 0.9454 - val_loss: 0.4596 - val_accuracy: 0.8761 - lr: 9.9997e-42\n",
            "Epoch 48/50\n",
            "210/210 [==============================] - 14s 67ms/step - loss: 0.2344 - accuracy: 0.9436 - val_loss: 0.4599 - val_accuracy: 0.8741 - lr: 1.0005e-42\n",
            "Epoch 49/50\n",
            "210/210 [==============================] - 14s 67ms/step - loss: 0.2223 - accuracy: 0.9466 - val_loss: 0.4599 - val_accuracy: 0.8758 - lr: 9.9492e-44\n",
            "Epoch 50/50\n",
            "210/210 [==============================] - 14s 67ms/step - loss: 0.2270 - accuracy: 0.9466 - val_loss: 0.4558 - val_accuracy: 0.8765 - lr: 9.8091e-45\n"
          ]
        }
      ]
    },
    {
      "cell_type": "code",
      "metadata": {
        "colab": {
          "base_uri": "https://localhost:8080/"
        },
        "id": "071AdXKsLRd8",
        "outputId": "f9f42f76-63c9-4fde-8988-568ece6f4684"
      },
      "source": [
        "# model_g.set_weights(avg_model_weights)\n",
        "# model_g.compile(loss='categorical_crossentropy', optimizer='adam', metrics=['accuracy'])\n",
        "\n",
        "\n",
        "_ , accuracy = model_g.evaluate(X_test,Y_test,verbose=0)\n",
        "print(f\"Global Model Accuracy: {round(accuracy*100,2)}%\")"
      ],
      "execution_count": null,
      "outputs": [
        {
          "output_type": "stream",
          "name": "stdout",
          "text": [
            "Global Model Accuracy: 87.65%\n"
          ]
        }
      ]
    },
    {
      "cell_type": "code",
      "metadata": {
        "id": "ATlIANIxMxQ3"
      },
      "source": [
        "Y_pred = model_g.predict(X_test)\n",
        "Y_pred = np.argmax(Y_pred,axis=1)"
      ],
      "execution_count": null,
      "outputs": []
    },
    {
      "cell_type": "code",
      "metadata": {
        "id": "DRAuCEcGOrEk"
      },
      "source": [
        "# Confusion Matrix\n",
        "confusion_matrix(Y_test, model_g.predict(X_test))"
      ],
      "execution_count": null,
      "outputs": []
    },
    {
      "cell_type": "code",
      "metadata": {
        "id": "kZubu9BMjqCy"
      },
      "source": [
        ""
      ],
      "execution_count": null,
      "outputs": []
    },
    {
      "cell_type": "code",
      "metadata": {
        "id": "dB07v4o-jqFE"
      },
      "source": [
        ""
      ],
      "execution_count": null,
      "outputs": []
    },
    {
      "cell_type": "code",
      "metadata": {
        "id": "h9RqhnP2jqIf"
      },
      "source": [
        ""
      ],
      "execution_count": null,
      "outputs": []
    },
    {
      "cell_type": "code",
      "metadata": {
        "colab": {
          "base_uri": "https://localhost:8080/"
        },
        "id": "TB7eBRYXkVR1",
        "outputId": "35cbb365-66f7-4d99-c8ff-d64b113e6611"
      },
      "source": [
        "model_z = Sequential()\n",
        "model_z.add(LSTM(48, input_shape=(timesteps, input_dim), return_sequences=True,bias_regularizer=reg ))\n",
        "model_z.add(BatchNormalization())\n",
        "model_z.add(Dropout(0.50))\n",
        "model_z.add(LSTM(32))\n",
        "model_z.add(Dropout(0.50))\n",
        "model_z.add(Dense(n_classes, activation='sigmoid'))\n",
        "print(\"Model Summary: \")\n",
        "model_z.summary()"
      ],
      "execution_count": null,
      "outputs": [
        {
          "output_type": "stream",
          "name": "stdout",
          "text": [
            "Model Summary: \n",
            "Model: \"sequential_6\"\n",
            "_________________________________________________________________\n",
            " Layer (type)                Output Shape              Param #   \n",
            "=================================================================\n",
            " lstm_12 (LSTM)              (None, 128, 48)           11136     \n",
            "                                                                 \n",
            " batch_normalization_6 (Batc  (None, 128, 48)          192       \n",
            " hNormalization)                                                 \n",
            "                                                                 \n",
            " dropout_12 (Dropout)        (None, 128, 48)           0         \n",
            "                                                                 \n",
            " lstm_13 (LSTM)              (None, 32)                10368     \n",
            "                                                                 \n",
            " dropout_13 (Dropout)        (None, 32)                0         \n",
            "                                                                 \n",
            " dense_6 (Dense)             (None, 6)                 198       \n",
            "                                                                 \n",
            "=================================================================\n",
            "Total params: 21,894\n",
            "Trainable params: 21,798\n",
            "Non-trainable params: 96\n",
            "_________________________________________________________________\n"
          ]
        }
      ]
    },
    {
      "cell_type": "code",
      "metadata": {
        "id": "HG3GVyp5bqzs"
      },
      "source": [
        "model_z.compile(loss='categorical_crossentropy', optimizer='adam', metrics=['accuracy'])"
      ],
      "execution_count": null,
      "outputs": []
    },
    {
      "cell_type": "code",
      "metadata": {
        "id": "t_fXjCNXbxb6"
      },
      "source": [
        "X_train_z = X_train[4000:]\n",
        "Y_train_z = Y_train[4000:]"
      ],
      "execution_count": null,
      "outputs": []
    },
    {
      "cell_type": "code",
      "metadata": {
        "colab": {
          "base_uri": "https://localhost:8080/"
        },
        "id": "l5pg01uYb09K",
        "outputId": "ea0c8803-dacc-498a-9f21-f6564f55c32c"
      },
      "source": [
        "# Training the model\n",
        "historyz= model_z.fit(X_train_z, Y_train_z, batch_size=16, validation_data=(X_test, Y_test), epochs=50,\n",
        "                      callbacks=[\n",
        "      tf.keras.callbacks.ModelCheckpoint(f'./model_z.h5', save_best_only=True),\n",
        "      tf.keras.callbacks.ReduceLROnPlateau(\n",
        "          monitor='val_loss',\n",
        "          factor=0.1,\n",
        "          patience=1\n",
        "      )\n",
        "  ])"
      ],
      "execution_count": null,
      "outputs": [
        {
          "output_type": "stream",
          "name": "stdout",
          "text": [
            "Epoch 1/50\n",
            "210/210 [==============================] - 18s 71ms/step - loss: 1.8208 - accuracy: 0.5970 - val_loss: 1.8793 - val_accuracy: 0.5555 - lr: 0.0010\n",
            "Epoch 2/50\n",
            "210/210 [==============================] - 14s 66ms/step - loss: 1.2502 - accuracy: 0.7381 - val_loss: 1.4003 - val_accuracy: 0.6739 - lr: 0.0010\n",
            "Epoch 3/50\n",
            "210/210 [==============================] - 14s 67ms/step - loss: 0.9240 - accuracy: 0.8118 - val_loss: 1.0316 - val_accuracy: 0.7822 - lr: 0.0010\n",
            "Epoch 4/50\n",
            "210/210 [==============================] - 14s 66ms/step - loss: 0.6476 - accuracy: 0.8965 - val_loss: 0.8662 - val_accuracy: 0.7628 - lr: 0.0010\n",
            "Epoch 5/50\n",
            "210/210 [==============================] - 14s 67ms/step - loss: 0.4331 - accuracy: 0.9320 - val_loss: 0.5895 - val_accuracy: 0.8310 - lr: 0.0010\n",
            "Epoch 6/50\n",
            "210/210 [==============================] - 14s 67ms/step - loss: 0.3323 - accuracy: 0.9278 - val_loss: 0.7142 - val_accuracy: 0.8124 - lr: 0.0010\n",
            "Epoch 7/50\n",
            "210/210 [==============================] - 14s 67ms/step - loss: 0.2665 - accuracy: 0.9388 - val_loss: 0.5214 - val_accuracy: 0.8636 - lr: 1.0000e-04\n",
            "Epoch 8/50\n",
            "210/210 [==============================] - 14s 66ms/step - loss: 0.2562 - accuracy: 0.9442 - val_loss: 0.5089 - val_accuracy: 0.8680 - lr: 1.0000e-04\n",
            "Epoch 9/50\n",
            "210/210 [==============================] - 14s 66ms/step - loss: 0.2367 - accuracy: 0.9508 - val_loss: 0.5166 - val_accuracy: 0.8619 - lr: 1.0000e-04\n",
            "Epoch 10/50\n",
            "210/210 [==============================] - 14s 67ms/step - loss: 0.2366 - accuracy: 0.9412 - val_loss: 0.5178 - val_accuracy: 0.8622 - lr: 1.0000e-05\n",
            "Epoch 11/50\n",
            "210/210 [==============================] - 14s 66ms/step - loss: 0.2387 - accuracy: 0.9424 - val_loss: 0.5156 - val_accuracy: 0.8612 - lr: 1.0000e-06\n",
            "Epoch 12/50\n",
            "210/210 [==============================] - 14s 66ms/step - loss: 0.2395 - accuracy: 0.9439 - val_loss: 0.5106 - val_accuracy: 0.8639 - lr: 1.0000e-07\n",
            "Epoch 13/50\n",
            "210/210 [==============================] - 14s 66ms/step - loss: 0.2285 - accuracy: 0.9475 - val_loss: 0.5112 - val_accuracy: 0.8619 - lr: 1.0000e-08\n",
            "Epoch 14/50\n",
            "210/210 [==============================] - 14s 66ms/step - loss: 0.2338 - accuracy: 0.9436 - val_loss: 0.5120 - val_accuracy: 0.8629 - lr: 1.0000e-09\n",
            "Epoch 15/50\n",
            "210/210 [==============================] - 14s 66ms/step - loss: 0.2301 - accuracy: 0.9433 - val_loss: 0.5130 - val_accuracy: 0.8616 - lr: 1.0000e-10\n",
            "Epoch 16/50\n",
            "210/210 [==============================] - 14s 67ms/step - loss: 0.2273 - accuracy: 0.9463 - val_loss: 0.5120 - val_accuracy: 0.8626 - lr: 1.0000e-11\n",
            "Epoch 17/50\n",
            "210/210 [==============================] - 14s 69ms/step - loss: 0.2321 - accuracy: 0.9469 - val_loss: 0.5136 - val_accuracy: 0.8622 - lr: 1.0000e-12\n",
            "Epoch 18/50\n",
            "210/210 [==============================] - 15s 70ms/step - loss: 0.2295 - accuracy: 0.9469 - val_loss: 0.5142 - val_accuracy: 0.8626 - lr: 1.0000e-13\n",
            "Epoch 19/50\n",
            "210/210 [==============================] - 14s 69ms/step - loss: 0.2269 - accuracy: 0.9490 - val_loss: 0.5125 - val_accuracy: 0.8622 - lr: 1.0000e-14\n",
            "Epoch 20/50\n",
            "210/210 [==============================] - 14s 69ms/step - loss: 0.2274 - accuracy: 0.9463 - val_loss: 0.5142 - val_accuracy: 0.8616 - lr: 1.0000e-15\n",
            "Epoch 21/50\n",
            "210/210 [==============================] - 14s 67ms/step - loss: 0.2384 - accuracy: 0.9376 - val_loss: 0.5174 - val_accuracy: 0.8622 - lr: 1.0000e-16\n",
            "Epoch 22/50\n",
            "210/210 [==============================] - 14s 67ms/step - loss: 0.2307 - accuracy: 0.9472 - val_loss: 0.5136 - val_accuracy: 0.8619 - lr: 1.0000e-17\n",
            "Epoch 23/50\n",
            "210/210 [==============================] - 14s 67ms/step - loss: 0.2328 - accuracy: 0.9457 - val_loss: 0.5138 - val_accuracy: 0.8619 - lr: 1.0000e-18\n",
            "Epoch 24/50\n",
            "210/210 [==============================] - 14s 67ms/step - loss: 0.2240 - accuracy: 0.9472 - val_loss: 0.5177 - val_accuracy: 0.8612 - lr: 1.0000e-19\n",
            "Epoch 25/50\n",
            "210/210 [==============================] - 14s 67ms/step - loss: 0.2241 - accuracy: 0.9484 - val_loss: 0.5124 - val_accuracy: 0.8619 - lr: 1.0000e-20\n",
            "Epoch 26/50\n",
            "210/210 [==============================] - 14s 67ms/step - loss: 0.2284 - accuracy: 0.9448 - val_loss: 0.5142 - val_accuracy: 0.8622 - lr: 1.0000e-21\n",
            "Epoch 27/50\n",
            "210/210 [==============================] - 14s 67ms/step - loss: 0.2346 - accuracy: 0.9421 - val_loss: 0.5158 - val_accuracy: 0.8619 - lr: 1.0000e-22\n",
            "Epoch 28/50\n",
            "210/210 [==============================] - 14s 67ms/step - loss: 0.2381 - accuracy: 0.9463 - val_loss: 0.5128 - val_accuracy: 0.8619 - lr: 1.0000e-23\n",
            "Epoch 29/50\n",
            "210/210 [==============================] - 14s 67ms/step - loss: 0.2368 - accuracy: 0.9433 - val_loss: 0.5116 - val_accuracy: 0.8622 - lr: 1.0000e-24\n",
            "Epoch 30/50\n",
            "210/210 [==============================] - 14s 67ms/step - loss: 0.2279 - accuracy: 0.9502 - val_loss: 0.5126 - val_accuracy: 0.8622 - lr: 1.0000e-25\n",
            "Epoch 31/50\n",
            "210/210 [==============================] - 14s 67ms/step - loss: 0.2323 - accuracy: 0.9439 - val_loss: 0.5115 - val_accuracy: 0.8626 - lr: 1.0000e-26\n",
            "Epoch 32/50\n",
            "210/210 [==============================] - 14s 67ms/step - loss: 0.2333 - accuracy: 0.9502 - val_loss: 0.5134 - val_accuracy: 0.8629 - lr: 1.0000e-27\n",
            "Epoch 33/50\n",
            "210/210 [==============================] - 14s 67ms/step - loss: 0.2368 - accuracy: 0.9412 - val_loss: 0.5148 - val_accuracy: 0.8622 - lr: 1.0000e-28\n",
            "Epoch 34/50\n",
            "210/210 [==============================] - 14s 68ms/step - loss: 0.2335 - accuracy: 0.9433 - val_loss: 0.5147 - val_accuracy: 0.8619 - lr: 1.0000e-29\n",
            "Epoch 35/50\n",
            "210/210 [==============================] - 14s 67ms/step - loss: 0.2298 - accuracy: 0.9499 - val_loss: 0.5142 - val_accuracy: 0.8626 - lr: 1.0000e-30\n",
            "Epoch 36/50\n",
            "210/210 [==============================] - 14s 67ms/step - loss: 0.2328 - accuracy: 0.9472 - val_loss: 0.5131 - val_accuracy: 0.8622 - lr: 1.0000e-31\n",
            "Epoch 37/50\n",
            "210/210 [==============================] - 14s 67ms/step - loss: 0.2211 - accuracy: 0.9493 - val_loss: 0.5114 - val_accuracy: 0.8626 - lr: 1.0000e-32\n",
            "Epoch 38/50\n",
            "210/210 [==============================] - 14s 67ms/step - loss: 0.2241 - accuracy: 0.9475 - val_loss: 0.5132 - val_accuracy: 0.8626 - lr: 1.0000e-33\n",
            "Epoch 39/50\n",
            "210/210 [==============================] - 14s 67ms/step - loss: 0.2305 - accuracy: 0.9475 - val_loss: 0.5160 - val_accuracy: 0.8616 - lr: 1.0000e-34\n",
            "Epoch 40/50\n",
            "210/210 [==============================] - 14s 67ms/step - loss: 0.2309 - accuracy: 0.9457 - val_loss: 0.5144 - val_accuracy: 0.8622 - lr: 1.0000e-35\n",
            "Epoch 41/50\n",
            "210/210 [==============================] - 14s 67ms/step - loss: 0.2268 - accuracy: 0.9487 - val_loss: 0.5113 - val_accuracy: 0.8629 - lr: 1.0000e-36\n",
            "Epoch 42/50\n",
            "210/210 [==============================] - 14s 67ms/step - loss: 0.2361 - accuracy: 0.9457 - val_loss: 0.5140 - val_accuracy: 0.8626 - lr: 1.0000e-37\n",
            "Epoch 43/50\n",
            "210/210 [==============================] - 14s 67ms/step - loss: 0.2261 - accuracy: 0.9433 - val_loss: 0.5136 - val_accuracy: 0.8629 - lr: 1.0000e-38\n",
            "Epoch 44/50\n",
            "210/210 [==============================] - 14s 67ms/step - loss: 0.2282 - accuracy: 0.9463 - val_loss: 0.5104 - val_accuracy: 0.8626 - lr: 1.0000e-39\n",
            "Epoch 45/50\n",
            "210/210 [==============================] - 14s 67ms/step - loss: 0.2322 - accuracy: 0.9472 - val_loss: 0.5148 - val_accuracy: 0.8612 - lr: 9.9999e-41\n",
            "Epoch 46/50\n",
            "210/210 [==============================] - 14s 67ms/step - loss: 0.2259 - accuracy: 0.9502 - val_loss: 0.5129 - val_accuracy: 0.8622 - lr: 9.9997e-42\n",
            "Epoch 47/50\n",
            "210/210 [==============================] - 14s 67ms/step - loss: 0.2289 - accuracy: 0.9475 - val_loss: 0.5167 - val_accuracy: 0.8619 - lr: 1.0005e-42\n",
            "Epoch 48/50\n",
            "210/210 [==============================] - 14s 67ms/step - loss: 0.2339 - accuracy: 0.9466 - val_loss: 0.5134 - val_accuracy: 0.8636 - lr: 9.9492e-44\n",
            "Epoch 49/50\n",
            "210/210 [==============================] - 14s 67ms/step - loss: 0.2292 - accuracy: 0.9490 - val_loss: 0.5147 - val_accuracy: 0.8619 - lr: 9.8091e-45\n",
            "Epoch 50/50\n",
            "210/210 [==============================] - 14s 67ms/step - loss: 0.2284 - accuracy: 0.9490 - val_loss: 0.5119 - val_accuracy: 0.8629 - lr: 1.4013e-45\n"
          ]
        }
      ]
    },
    {
      "cell_type": "code",
      "metadata": {
        "colab": {
          "base_uri": "https://localhost:8080/"
        },
        "id": "fx3f6xV_b-Wz",
        "outputId": "c7fb8b38-d545-49c9-89b3-a985c0147334"
      },
      "source": [
        "# model_g.set_weights(avg_model_weights)\n",
        "# model_g.compile(loss='categorical_crossentropy', optimizer='adam', metrics=['accuracy'])\n",
        "\n",
        "\n",
        "_ , accuracy = model_z.evaluate(X_test,Y_test,verbose=0)\n",
        "print(f\" Model_z Accuracy: {round(accuracy*100,2)}%\")"
      ],
      "execution_count": null,
      "outputs": [
        {
          "output_type": "stream",
          "name": "stdout",
          "text": [
            " Model_z Accuracy: 86.29%\n"
          ]
        }
      ]
    },
    {
      "cell_type": "code",
      "metadata": {
        "id": "gT1bRL_Ee4cn"
      },
      "source": [
        ""
      ],
      "execution_count": null,
      "outputs": []
    }
  ]
}